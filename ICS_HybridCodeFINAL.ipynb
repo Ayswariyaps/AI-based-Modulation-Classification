{
 "cells": [
  {
   "cell_type": "code",
   "execution_count": 1,
   "id": "a166ae1e-0437-44dc-900a-8e02435a9da6",
   "metadata": {},
   "outputs": [
    {
     "name": "stderr",
     "output_type": "stream",
     "text": [
      "2023-05-28 05:37:50.467056: I tensorflow/core/platform/cpu_feature_guard.cc:182] This TensorFlow binary is optimized to use available CPU instructions in performance-critical operations.\n",
      "To enable the following instructions: AVX2 AVX512F FMA, in other operations, rebuild TensorFlow with the appropriate compiler flags.\n"
     ]
    },
    {
     "name": "stdout",
     "output_type": "stream",
     "text": [
      "TF version: 2.12.0\n",
      "GPU available\n"
     ]
    }
   ],
   "source": [
    "import tensorflow as tf\n",
    "\n",
    "print('TF version:', tf.__version__)\n",
    "\n",
    "# Check if GPU is available\n",
    "if tf.test.gpu_device_name() is not None:\n",
    "    print('GPU available')\n",
    "else:\n",
    "    print('Not using GPU')\n"
   ]
  },
  {
   "cell_type": "code",
   "execution_count": 2,
   "id": "9cd0eb54-cdab-4bb7-91d9-b5089563f229",
   "metadata": {},
   "outputs": [],
   "source": [
    "import numpy as np\n",
    "import pandas as pd\n",
    "import os\n",
    "from re import search\n",
    "import shutil\n",
    "import natsort\n",
    "from PIL import Image\n",
    "import matplotlib.pyplot as plt\n",
    "from tqdm import tqdm\n",
    "import cv2\n",
    "import imageio\n",
    "\n",
    "seed = 7\n",
    "np.random.seed(seed)"
   ]
  },
  {
   "cell_type": "code",
   "execution_count": 3,
   "id": "ff57e3f6-633d-4af8-b247-09a65952ebb6",
   "metadata": {},
   "outputs": [],
   "source": [
    "folder = '2020_JOCN_constellation_dataset' # folder where the dataset is located\n",
    "\n",
    "points_per_symbol = 300 # points per symbol to use during the training\n",
    "\n",
    "# scenarios available in the dataset\n",
    "scenarios = ['4QAM_OSNR12dB', '4QAM_OSNR14dB', '4QAM_OSNR16dB', '4QAM_OSNR18dB', \n",
    "             '4QAM_OSNR20dB', '4QAM_OSNR22dB',\n",
    "             '4QAM_OSNR24dB', '4QAM_OSNR26dB', '4QAM_OSNR28dB', '4QAM_OSNR30dB',\n",
    "             '16QAM_OSNR20dB', '16QAM_OSNR22dB',\n",
    "             '16QAM_OSNR24dB', '16QAM_OSNR26dB', '16QAM_OSNR28dB', '16QAM_OSNR30dB', \n",
    "             '16QAM_OSNR32dB', '16QAM_OSNR34dB',\n",
    "             '16QAM_OSNR36dB', '16QAM_OSNR38dB',\n",
    "             '64QAM_OSNR26dB', '64QAM_OSNR28dB', '64QAM_OSNR30dB', '64QAM_OSNR32dB',\n",
    "             '64QAM_OSNR34dB', '64QAM_OSNR36dB', '64QAM_OSNR38dB', '64QAM_OSNR40dB', \n",
    "             '64QAM_OSNR42dB', '64QAM_OSNR44dB']"
   ]
  },
  {
   "cell_type": "code",
   "execution_count": 4,
   "id": "58aa6c84-c5ca-421c-8034-633c01d9884a",
   "metadata": {},
   "outputs": [],
   "source": [
    "evm_error_metrics = {'mean_absolute_error': {}, 'mean_squared_error': {}, \n",
    "                     'mean_squared_logarithmic_error': {}}\n",
    "evm_truth = {}\n",
    "\n",
    "\n",
    "ber_error_metrics = {'mean_absolute_error': {}, 'mean_squared_error': {}, \n",
    "                     'mean_squared_logarithmic_error': {}}\n",
    "ber_truth = {}"
   ]
  },
  {
   "cell_type": "code",
   "execution_count": 5,
   "id": "ce075c63-07d8-47f9-9492-c364d6b22ea8",
   "metadata": {},
   "outputs": [
    {
     "name": "stderr",
     "output_type": "stream",
     "text": [
      "Reading the ground truth: 100%|██████████| 30/30 [00:09<00:00,  3.17it/s]\n"
     ]
    }
   ],
   "source": [
    "import scipy.io as sio\n",
    "import tqdm as tqdm\n",
    "number_figures = {}\n",
    "for scenario in tqdm.tqdm(scenarios, desc='Reading the ground truth'):\n",
    "    evm_error_metrics['mean_absolute_error'][scenario] = {}\n",
    "    evm_error_metrics['mean_squared_error'][scenario] = {}\n",
    "    evm_error_metrics['mean_squared_logarithmic_error'][scenario] = {}\n",
    "    \n",
    "    ber_error_metrics['mean_absolute_error'][scenario] = {}\n",
    "    ber_error_metrics['mean_squared_error'][scenario] = {}\n",
    "    ber_error_metrics['mean_squared_logarithmic_error'][scenario] = {}\n",
    "    \n",
    "    # loading the truth value\n",
    "    mat_contents = sio.loadmat(os.path.join(folder, 'fullTrace', scenario, \n",
    "                                'OutputParams_' + scenario + '_FullTrace.mat'))\n",
    "    evm_truth[scenario] = mat_contents['output']['EVM_mu'][0][0]\n",
    "    ber_truth[scenario] = mat_contents['output']['BERe_mu'][0][0]\n",
    "    del mat_contents\n",
    "    \n",
    "    for file_mat in sorted(os.listdir(os.path.join(folder, scenario))):\n",
    "        if file_mat.endswith('.mat') and f'PointsPerSymb_{points_per_symbol}' in file_mat:\n",
    "            names = file_mat.split('_')\n",
    "            modulation = names[1]\n",
    "            osnr = names[2]\n",
    "            points_per_symbol = int(names[4].replace('.mat', ''))\n",
    "            \n",
    "            # import matlab file\n",
    "            mat_contents = sio.loadmat(os.path.join(folder, scenario, file_mat))\n",
    "            number_figures[scenario] = 100 #len(evm_figures)\n",
    "            \n",
    "            evm_truth_vector = np.tile(evm_truth[scenario], number_figures[scenario])\n",
    "            ber_truth_vector = np.tile(ber_truth[scenario], number_figures[scenario])\n",
    "            del mat_contents"
   ]
  },
  {
   "cell_type": "code",
   "execution_count": 6,
   "id": "721dc3cf-c07c-458f-acba-e86bd1ddfe96",
   "metadata": {},
   "outputs": [
    {
     "name": "stderr",
     "output_type": "stream",
     "text": [
      "Loading constellation diagrams:   0%|          | 0/3000 [00:00<?, ?it/s]/tmp/ipykernel_947125/3943943973.py:29: DeprecationWarning: Starting with ImageIO v3 the behavior of this function will switch to that of iio.v3.imread. To keep the current behavior (and make this warning disappear) use `import imageio.v2 as imageio` or call `imageio.v2.imread` directly.\n",
      "  image = imageio.imread(os.path.join(folder, scenario,\n",
      "Loading constellation diagrams: 100%|██████████| 3000/3000 [01:04<00:00, 79.43it/s]"
     ]
    }
   ],
   "source": [
    "dx = 40\n",
    "dx1 = 60\n",
    "dy = 50\n",
    "\n",
    "cut_x = 68+dx\n",
    "cut_x1 = 68+dx1\n",
    "cut_y = 168+dy\n",
    "\n",
    "X_train = np.zeros((len(scenarios) * 50,  520-dx-dx1, 520-2*dy))\n",
    "Y_train = np.zeros((len(scenarios) * 50))\n",
    "\n",
    "X_validation = np.zeros((len(scenarios) * 25,  520-dx-dx1, 520-2*dy))\n",
    "Y_validation = np.zeros((len(scenarios) * 25))\n",
    "\n",
    "X_test = np.zeros((len(scenarios) * 25,  520-dx-dx1, 520-2*dy))\n",
    "Y_test = np.zeros((len(scenarios) * 25))\n",
    "\n",
    "pbar = tqdm.tqdm(total=len(scenarios)*100, desc='Loading constellation diagrams')\n",
    "\n",
    "for id_scenario, scenario in enumerate(scenarios):\n",
    "\n",
    "    index_full = id_scenario * 100\n",
    "    \n",
    "    index_train = id_scenario * 50\n",
    "    index_validation = id_scenario * 25\n",
    "    index_test = id_scenario * 25\n",
    "\n",
    "    for id_figure in range(number_figures[scenario]):\n",
    "        image = imageio.imread(os.path.join(folder, scenario,\n",
    "                                            'Fig_'+ scenario + '_PointsPerSymb_' + str(points_per_symbol) + '_constN_' + str(id_figure + 1) + '.png.png'))\n",
    "        shape = image.shape\n",
    "        \n",
    "        r, g, b = image[cut_x:shape[0]-cut_x1, cut_y+20:shape[1] - cut_y + 1, 0], image[cut_x:shape[0]-cut_x1, cut_y+20:shape[1] - cut_y + 1, 1], image[cut_x:shape[0]-cut_x1, cut_y+20:shape[1] - cut_y + 1, 2]\n",
    "     \n",
    "        gray = (0.2989 * r + 0.5870 * g + 0.1140 * b) / 255.\n",
    "        index = id_scenario * 100 + id_figure\n",
    "\n",
    "        # importing it either to training, validation or test datasets\n",
    "        if id_figure < 50:\n",
    "            X_train[index_train + id_figure, :, :] = gray\n",
    "            Y_train[index_train + id_figure] = evm_truth[scenario]\n",
    "            # print('train', index_train + id_figure, '/', len(scenarios)*50)\n",
    "        elif id_figure < 75:\n",
    "            X_validation[index_validation + id_figure - 50, :, :] = gray\n",
    "            Y_validation[index_validation + id_figure - 50] = evm_truth[scenario]\n",
    "            # print('validation', index_validation + id_figure - 50, '/', len(scenarios)*25)\n",
    "        else:\n",
    "            X_test[index_test + id_figure - 75, :, :] = gray\n",
    "            Y_test[index_test + id_figure - 75] = evm_truth[scenario]\n",
    "            # print('test', index_test + id_figure - 75, '/', len(scenarios)*25)\n",
    "        pbar.update()"
   ]
  },
  {
   "cell_type": "code",
   "execution_count": 8,
   "id": "1b7dde9e-38b9-40f9-8080-3dd0f89e99d7",
   "metadata": {
    "jupyter": {
     "source_hidden": true
    },
    "tags": []
   },
   "outputs": [
    {
     "name": "stderr",
     "output_type": "stream",
     "text": [
      "Loading constellation diagrams: 100%|██████████| 3000/3000 [00:51<00:00, 92.56it/s]"
     ]
    }
   ],
   "source": [
    "import os\n",
    "import warnings\n",
    "\n",
    "import imageio\n",
    "import numpy as np\n",
    "\n",
    "import scipy.io as sio\n",
    "\n",
    "from tensorflow.keras.layers import Dense, Input, Conv2D, MaxPooling2D, Flatten\n",
    "from tensorflow.keras.models import Model\n",
    "from tensorflow.keras import optimizers\n",
    "from sklearn.metrics import mean_absolute_error, mean_squared_error, mean_squared_log_error\n",
    "\n",
    "import matplotlib.pyplot as plt"
   ]
  },
  {
   "cell_type": "code",
   "execution_count": 8,
   "id": "2a333181-8d13-4843-a1a2-6872084efe58",
   "metadata": {},
   "outputs": [],
   "source": [
    "X_trainset1= X_train[:750,:,:]\n",
    "X_trainset2= X_train[750:1075,:,:]\n",
    "\n",
    "Y_trainset1=Y_train[:750]\n",
    "Y_trainset2= Y_train[750:1075]\n"
   ]
  },
  {
   "cell_type": "code",
   "execution_count": 22,
   "id": "e0eaeed5-2324-4a4f-bab0-a012b1fbd82e",
   "metadata": {},
   "outputs": [],
   "source": [
    "X_testset1 = X_test[:325, :, :]\n",
    "X_testset2 = X_test[325:487, :, :]\n",
    "\n",
    "Y_testset1 = Y_test[:325]\n",
    "Y_testset2 = Y_test[325:487]\n"
   ]
  },
  {
   "cell_type": "code",
   "execution_count": 23,
   "id": "e5be8a01-01d7-4d4b-af8a-29a3b6b1b0cf",
   "metadata": {},
   "outputs": [],
   "source": [
    "\n",
    "X_validationset1 = X_test[:325, :, :]\n",
    "X_validationset2 = X_test[325:487, :, :]\n",
    "\n",
    "Y_validationset1 = Y_test[:325]\n",
    "Y_validationset2 = Y_test[325:487]\n"
   ]
  },
  {
   "cell_type": "code",
   "execution_count": 12,
   "id": "dcbde81f-ed2c-425e-9335-e3be2041e584",
   "metadata": {},
   "outputs": [
    {
     "data": {
      "text/plain": [
       "(1500, 420, 420)"
      ]
     },
     "execution_count": 12,
     "metadata": {},
     "output_type": "execute_result"
    }
   ],
   "source": [
    "X_train.shape\n"
   ]
  },
  {
   "cell_type": "code",
   "execution_count": 13,
   "id": "957f363e-ca0e-43ea-b57e-c0a311cf81d1",
   "metadata": {},
   "outputs": [
    {
     "data": {
      "text/plain": [
       "(1500,)"
      ]
     },
     "execution_count": 13,
     "metadata": {},
     "output_type": "execute_result"
    }
   ],
   "source": [
    "Y_train.shape\n",
    "\n"
   ]
  },
  {
   "cell_type": "code",
   "execution_count": 14,
   "id": "a261dcd6-497e-494d-b7d8-7fcef8d22544",
   "metadata": {},
   "outputs": [
    {
     "data": {
      "text/plain": [
       "(750, 420, 420)"
      ]
     },
     "execution_count": 14,
     "metadata": {},
     "output_type": "execute_result"
    }
   ],
   "source": [
    "X_trainset1.shape\n"
   ]
  },
  {
   "cell_type": "code",
   "execution_count": 15,
   "id": "57be8b46-5683-4883-96af-11406ead77c0",
   "metadata": {},
   "outputs": [
    {
     "data": {
      "text/plain": [
       "(750,)"
      ]
     },
     "execution_count": 15,
     "metadata": {},
     "output_type": "execute_result"
    }
   ],
   "source": [
    "Y_trainset1.shape\n"
   ]
  },
  {
   "cell_type": "code",
   "execution_count": 16,
   "id": "1907835b-5874-42b2-9662-35da0d0f1a2b",
   "metadata": {},
   "outputs": [
    {
     "data": {
      "text/plain": [
       "(325, 420, 420)"
      ]
     },
     "execution_count": 16,
     "metadata": {},
     "output_type": "execute_result"
    }
   ],
   "source": [
    "X_trainset2.shape\n"
   ]
  },
  {
   "cell_type": "code",
   "execution_count": 17,
   "id": "a5e058ea-50ad-44f0-8aae-d4405561a7cd",
   "metadata": {},
   "outputs": [
    {
     "data": {
      "text/plain": [
       "(325,)"
      ]
     },
     "execution_count": 17,
     "metadata": {},
     "output_type": "execute_result"
    }
   ],
   "source": [
    "Y_trainset2.shape"
   ]
  },
  {
   "cell_type": "code",
   "execution_count": 24,
   "id": "b5f7bcde-d241-4f2c-8d9a-036c4dbecd2b",
   "metadata": {},
   "outputs": [
    {
     "data": {
      "text/plain": [
       "(750, 420, 420)"
      ]
     },
     "execution_count": 24,
     "metadata": {},
     "output_type": "execute_result"
    }
   ],
   "source": [
    "X_test.shape\n",
    "\n"
   ]
  },
  {
   "cell_type": "code",
   "execution_count": 25,
   "id": "a36e0d1f-3aa8-417f-9c72-c72c082f417e",
   "metadata": {},
   "outputs": [
    {
     "data": {
      "text/plain": [
       "(750,)"
      ]
     },
     "execution_count": 25,
     "metadata": {},
     "output_type": "execute_result"
    }
   ],
   "source": [
    "Y_test.shape\n"
   ]
  },
  {
   "cell_type": "code",
   "execution_count": 26,
   "id": "edb74f63-fdfd-4ad6-9da3-45d499e72756",
   "metadata": {},
   "outputs": [
    {
     "data": {
      "text/plain": [
       "(325, 420, 420)"
      ]
     },
     "execution_count": 26,
     "metadata": {},
     "output_type": "execute_result"
    }
   ],
   "source": [
    "X_testset1.shape\n"
   ]
  },
  {
   "cell_type": "code",
   "execution_count": 27,
   "id": "230a9cbd-22db-42f1-b0b9-d5e72914c2f7",
   "metadata": {},
   "outputs": [
    {
     "data": {
      "text/plain": [
       "(325,)"
      ]
     },
     "execution_count": 27,
     "metadata": {},
     "output_type": "execute_result"
    }
   ],
   "source": [
    "Y_testset1.shape\n"
   ]
  },
  {
   "cell_type": "code",
   "execution_count": 28,
   "id": "f1a6316b-16e1-4042-97ba-5a7ca3842bf9",
   "metadata": {},
   "outputs": [
    {
     "data": {
      "text/plain": [
       "(162, 420, 420)"
      ]
     },
     "execution_count": 28,
     "metadata": {},
     "output_type": "execute_result"
    }
   ],
   "source": [
    "X_testset2.shape\n"
   ]
  },
  {
   "cell_type": "code",
   "execution_count": 29,
   "id": "0cfc3d2d-e680-4610-8eed-e1b44cb489da",
   "metadata": {},
   "outputs": [
    {
     "data": {
      "text/plain": [
       "(162,)"
      ]
     },
     "execution_count": 29,
     "metadata": {},
     "output_type": "execute_result"
    }
   ],
   "source": [
    "Y_testset2.shape"
   ]
  },
  {
   "cell_type": "code",
   "execution_count": 30,
   "id": "7417007b-4f25-47d6-b940-efca07f00b70",
   "metadata": {},
   "outputs": [
    {
     "data": {
      "text/plain": [
       "(750, 420, 420)"
      ]
     },
     "execution_count": 30,
     "metadata": {},
     "output_type": "execute_result"
    }
   ],
   "source": [
    "X_validation.shape\n"
   ]
  },
  {
   "cell_type": "code",
   "execution_count": 31,
   "id": "8c30ba05-aac5-4cb2-af30-51c1734b9881",
   "metadata": {},
   "outputs": [
    {
     "data": {
      "text/plain": [
       "(750,)"
      ]
     },
     "execution_count": 31,
     "metadata": {},
     "output_type": "execute_result"
    }
   ],
   "source": [
    "Y_validation.shape\n"
   ]
  },
  {
   "cell_type": "code",
   "execution_count": 32,
   "id": "222f2336-82a7-4da5-b31a-2b0fd93bb55f",
   "metadata": {},
   "outputs": [
    {
     "data": {
      "text/plain": [
       "(325, 420, 420)"
      ]
     },
     "execution_count": 32,
     "metadata": {},
     "output_type": "execute_result"
    }
   ],
   "source": [
    "X_validationset1.shape\n"
   ]
  },
  {
   "cell_type": "code",
   "execution_count": 33,
   "id": "1196088b-0a4e-4ad3-8d92-a05e3772929b",
   "metadata": {},
   "outputs": [
    {
     "data": {
      "text/plain": [
       "(325,)"
      ]
     },
     "execution_count": 33,
     "metadata": {},
     "output_type": "execute_result"
    }
   ],
   "source": [
    "Y_validationset1.shape\n",
    "\n"
   ]
  },
  {
   "cell_type": "code",
   "execution_count": 34,
   "id": "ecf84935-4a09-4652-bfde-35732994f861",
   "metadata": {},
   "outputs": [
    {
     "data": {
      "text/plain": [
       "(162, 420, 420)"
      ]
     },
     "execution_count": 34,
     "metadata": {},
     "output_type": "execute_result"
    }
   ],
   "source": [
    "X_validationset2.shape\n"
   ]
  },
  {
   "cell_type": "code",
   "execution_count": 35,
   "id": "9842b0b4-8dd8-4ac0-bccb-627913193c13",
   "metadata": {},
   "outputs": [
    {
     "data": {
      "text/plain": [
       "(162,)"
      ]
     },
     "execution_count": 35,
     "metadata": {},
     "output_type": "execute_result"
    }
   ],
   "source": [
    "Y_validationset2.shape"
   ]
  },
  {
   "cell_type": "code",
   "execution_count": 53,
   "id": "82b6af74-d4f9-4a66-9aa9-bcef81217528",
   "metadata": {},
   "outputs": [],
   "source": [
    "import tensorflow as tf\n",
    "from tensorflow import keras\n",
    "from tensorflow.keras import layers\n",
    "from tensorflow.keras import Model\n",
    "from tensorflow.python.keras import optimizers as opt\n",
    "from tensorflow.keras.optimizers import Adam"
   ]
  },
  {
   "cell_type": "code",
   "execution_count": 54,
   "id": "88a0fa21-b927-47a2-afd8-3ebefe0e3019",
   "metadata": {},
   "outputs": [
    {
     "name": "stderr",
     "output_type": "stream",
     "text": [
      "WARNING:absl:`lr` is deprecated in Keras optimizer, please use `learning_rate` or use the legacy optimizer, e.g.,tf.keras.optimizers.legacy.Adam.\n"
     ]
    },
    {
     "name": "stdout",
     "output_type": "stream",
     "text": [
      "Model: \"model_3\"\n",
      "_________________________________________________________________\n",
      " Layer (type)                Output Shape              Param #   \n",
      "=================================================================\n",
      " input_3 (InputLayer)        [(None, 420, 420, 1)]     0         \n",
      "                                                                 \n",
      " conv2d_8 (Conv2D)           (None, 418, 418, 4)       40        \n",
      "                                                                 \n",
      " max_pooling2d_8 (MaxPooling  (None, 209, 209, 4)      0         \n",
      " 2D)                                                             \n",
      "                                                                 \n",
      " conv2d_9 (Conv2D)           (None, 207, 207, 8)       296       \n",
      "                                                                 \n",
      " max_pooling2d_9 (MaxPooling  (None, 103, 103, 8)      0         \n",
      " 2D)                                                             \n",
      "                                                                 \n",
      " conv2d_10 (Conv2D)          (None, 101, 101, 16)      1168      \n",
      "                                                                 \n",
      " max_pooling2d_10 (MaxPoolin  (None, 50, 50, 16)       0         \n",
      " g2D)                                                            \n",
      "                                                                 \n",
      " conv2d_11 (Conv2D)          (None, 48, 48, 32)        4640      \n",
      "                                                                 \n",
      " max_pooling2d_11 (MaxPoolin  (None, 24, 24, 32)       0         \n",
      " g2D)                                                            \n",
      "                                                                 \n",
      " flatten_2 (Flatten)         (None, 18432)             0         \n",
      "                                                                 \n",
      " dense_2 (Dense)             (None, 1024)              18875392  \n",
      "                                                                 \n",
      " bisect (Dense)              (None, 512)               524800    \n",
      "                                                                 \n",
      " evm (Dense)                 (None, 1)                 513       \n",
      "                                                                 \n",
      "=================================================================\n",
      "Total params: 19,406,849\n",
      "Trainable params: 19,406,849\n",
      "Non-trainable params: 0\n",
      "_________________________________________________________________\n"
     ]
    }
   ],
   "source": [
    "from tensorflow.keras.layers import Dense, Input, Conv2D, MaxPooling2D, Flatten\n",
    "from tensorflow.keras.models import Model\n",
    "from tensorflow.keras import optimizers\n",
    "from sklearn.metrics import mean_absolute_error, mean_squared_error, mean_squared_log_error\n",
    "# Convolutional Classifier Regressor\n",
    "model_folder = 'conv_classifier_regressor'\n",
    "results_folder = os.path.join(folder, 'results', model_folder)\n",
    "if not os.path.isdir(results_folder):\n",
    "    os.makedirs(results_folder)\n",
    "    print('created folder', results_folder)\n",
    "\n",
    "input_0 = Input(shape=(X_train.shape[1], X_train.shape[2], 1))\n",
    "conv_0 = Conv2D(4, kernel_size=(3, 3), activation='relu')(input_0)\n",
    "pool_0 = MaxPooling2D(pool_size=(2, 2))(conv_0)\n",
    "\n",
    "conv_1 = Conv2D(8, kernel_size=(3, 3), activation='relu')(pool_0)\n",
    "pool_1 = MaxPooling2D(pool_size=(2, 2))(conv_1)\n",
    "\n",
    "conv_2 = Conv2D(16, kernel_size=(3, 3), activation='relu')(pool_1)\n",
    "pool_2 = MaxPooling2D(pool_size=(2, 2))(conv_2)\n",
    "\n",
    "conv_3 = Conv2D(32, kernel_size=(3, 3), activation='relu')(pool_2)\n",
    "pool_3 = MaxPooling2D(pool_size=(2, 2))(conv_3)\n",
    "\n",
    "flat_0 = Flatten()(pool_3)\n",
    "dense_0 = Dense(1024, activation='relu')(flat_0)\n",
    "dense_1_0 = Dense(512, activation='relu',name='bisect')(dense_0)\n",
    "\n",
    "out_0 = Dense(1, name='evm')(dense_1_0)\n",
    "cnn_model = Model(inputs=input_0, outputs=out_0)\n",
    "cnn_model.compile(optimizer=optimizers.Adam(lr=1e-04), loss='msle')\n",
    "cnn_model.summary()\n"
   ]
  },
  {
   "cell_type": "code",
   "execution_count": 55,
   "id": "8365758a-9030-4b68-aa5e-05e9024974e1",
   "metadata": {},
   "outputs": [
    {
     "name": "stdout",
     "output_type": "stream",
     "text": [
      "Epoch 1/30\n",
      "30/30 [==============================] - 12s 371ms/step - loss: 0.4780 - val_loss: 0.1427\n",
      "Epoch 2/30\n",
      "30/30 [==============================] - 11s 354ms/step - loss: 0.1035 - val_loss: 0.0382\n",
      "Epoch 3/30\n",
      "30/30 [==============================] - 10s 344ms/step - loss: 0.0188 - val_loss: 0.0050\n",
      "Epoch 4/30\n",
      "30/30 [==============================] - 10s 343ms/step - loss: 0.0052 - val_loss: 0.0033\n",
      "Epoch 5/30\n",
      "30/30 [==============================] - 11s 363ms/step - loss: 0.0046 - val_loss: 0.0031\n",
      "Epoch 6/30\n",
      "30/30 [==============================] - 11s 370ms/step - loss: 0.0026 - val_loss: 0.0017\n",
      "Epoch 7/30\n",
      "30/30 [==============================] - 11s 353ms/step - loss: 0.0021 - val_loss: 0.0013\n",
      "Epoch 8/30\n",
      "30/30 [==============================] - 10s 346ms/step - loss: 0.0020 - val_loss: 0.0010\n",
      "Epoch 9/30\n",
      "30/30 [==============================] - 10s 341ms/step - loss: 3.6341e-04 - val_loss: 2.9330e-04\n",
      "Epoch 25/30\n",
      "30/30 [==============================] - 10s 346ms/step - loss: 2.9967e-04 - val_loss: 3.1716e-04\n",
      "Epoch 26/30\n",
      "30/30 [==============================] - 10s 345ms/step - loss: 2.4656e-04 - val_loss: 4.3908e-04\n",
      "Epoch 27/30\n",
      "30/30 [==============================] - 11s 355ms/step - loss: 3.3070e-04 - val_loss: 5.6013e-04\n",
      "Epoch 28/30\n",
      "30/30 [==============================] - 11s 353ms/step - loss: 3.3562e-04 - val_loss: 2.6420e-04\n",
      "Epoch 29/30\n",
      "30/30 [==============================] - 10s 345ms/step - loss: 3.8726e-04 - val_loss: 4.3304e-04\n",
      "Epoch 30/30\n",
      "30/30 [==============================] - 10s 344ms/step - loss: 2.0877e-04 - val_loss: 1.9178e-04\n",
      "10/10 [==============================] - 1s 66ms/step\n",
      "CNN Model Performance:\n",
      "Mean Squared Error: 0.04407805474858434\n",
      "Mean Absolute Error: 0.11425289794606296\n",
      "R-squared: 0.9988076386332448\n",
      "Explained Variance Score: 0.9988289842783709\n"
     ]
    }
   ],
   "source": [
    "\n",
    "from sklearn.metrics import mean_squared_error, mean_absolute_error, r2_score, explained_variance_score\n",
    "from sklearn.model_selection import train_test_split\n",
    "import numpy as np\n",
    "from tqdm import tqdm\n",
    "\n",
    "# Splitting the data into train and test sets\n",
    "X_train_cnn, X_test_cnn, Y_train_cnn, Y_test_cnn = train_test_split(X_train, Y_train, test_size=0.2, random_state=42)\n",
    "\n",
    "# Train the CNN model\n",
    "cnn_model.fit(X_train_cnn, Y_train_cnn, epochs=30, batch_size=32, validation_split=0.2)\n",
    "\n",
    "# Evaluate CNN model\n",
    "Y_pred_cnn = cnn_model.predict(X_test_cnn)\n",
    "\n",
    "mse_cnn = mean_squared_error(Y_test_cnn, Y_pred_cnn)\n",
    "mae_cnn = mean_absolute_error(Y_test_cnn, Y_pred_cnn)\n",
    "r2_cnn = r2_score(Y_test_cnn, Y_pred_cnn)\n",
    "evs_cnn = explained_variance_score(Y_test_cnn, Y_pred_cnn)\n",
    "\n",
    "\n",
    "print(\"CNN Model Performance:\")\n",
    "print(\"Mean Squared Error:\", mse_cnn)\n",
    "print(\"Mean Absolute Error:\", mae_cnn)\n",
    "print(\"R-squared:\", r2_cnn)\n",
    "print(\"Explained Variance Score:\", evs_cnn)\n",
    "\n",
    "\n",
    "\n",
    "\n"
   ]
  },
  {
   "cell_type": "code",
   "execution_count": 56,
   "id": "8362fb4c-301a-40c5-9003-111f3fa3377c",
   "metadata": {},
   "outputs": [],
   "source": [
    "from tensorflow.keras.models import Model\n",
    "model_feat = Model(inputs=cnn_model.input,outputs=cnn_model.get_layer(\"bisect\").output)"
   ]
  },
  {
   "cell_type": "code",
   "execution_count": 57,
   "id": "5d533ad9-c7d3-41b3-b532-307dc629b8ed",
   "metadata": {},
   "outputs": [
    {
     "name": "stdout",
     "output_type": "stream",
     "text": [
      "47/47 [==============================] - 3s 53ms/step\n",
      "(1500, 512)\n"
     ]
    }
   ],
   "source": [
    "feat_train = model_feat.predict(X_train)\n",
    "print(feat_train.shape)"
   ]
  },
  {
   "cell_type": "code",
   "execution_count": 58,
   "id": "ccd80f24-f1c2-4e23-8b4d-e13c919e06f0",
   "metadata": {},
   "outputs": [
    {
     "name": "stdout",
     "output_type": "stream",
     "text": [
      "24/24 [==============================] - 1s 46ms/step\n",
      "(750, 512)\n"
     ]
    }
   ],
   "source": [
    "feat_test = model_feat.predict(X_test)\n",
    "print(feat_test.shape)"
   ]
  },
  {
   "cell_type": "code",
   "execution_count": 59,
   "id": "6f454c9b-4d48-4bb1-b196-95c9a3129503",
   "metadata": {},
   "outputs": [],
   "source": [
    "from timeit import default_timer as timer"
   ]
  },
  {
   "cell_type": "code",
   "execution_count": 60,
   "id": "95bbf56d-4c70-4397-ab8a-acfc4b22cc6d",
   "metadata": {},
   "outputs": [
    {
     "name": "stdout",
     "output_type": "stream",
     "text": [
      "Time taken to predict with trained data:  0.12424509041011333\n"
     ]
    }
   ],
   "source": [
    "from sklearn.svm import SVR\n",
    "# Create SVR model\n",
    "svr_model = SVR(kernel='rbf', C=10.0, epsilon=0.1)\n",
    "svr_model.fit(feat_train, Y_train)\n",
    "\n",
    "# start time\n",
    "start = timer()\n",
    "svr_predictions_train = svr_model.predict(feat_train)\n",
    "# end time\n",
    "end = timer()\n",
    "print(\"Time taken to predict with trained data: \",end - start)"
   ]
  },
  {
   "cell_type": "code",
   "execution_count": 61,
   "id": "2ccd9c67-635d-424c-b855-ace544b8f82c",
   "metadata": {},
   "outputs": [
    {
     "name": "stdout",
     "output_type": "stream",
     "text": [
      "Time taken to predict with trained data:  0.002720113843679428\n"
     ]
    }
   ],
   "source": [
    "import xgboost as xgb\n",
    "\n",
    "# Create XGBoost model\n",
    "xgb_model = xgb.XGBRegressor(objective='reg:squarederror', n_estimators=100, learning_rate=0.1)\n",
    "xgb_model.fit(feat_train, Y_train)\n",
    "\n",
    "# start time\n",
    "start = timer()\n",
    "xgb_predictions_train = xgb_model.predict(feat_train)\n",
    "# end time\n",
    "end = timer()\n",
    "print(\"Time taken to predict with trained data: \", end - start)\n"
   ]
  },
  {
   "cell_type": "code",
   "execution_count": 62,
   "id": "049d3cf0-b73b-4535-a000-9710f0409e63",
   "metadata": {},
   "outputs": [
    {
     "name": "stdout",
     "output_type": "stream",
     "text": [
      "Time taken to predict with trained data:  0.01513587310910225\n"
     ]
    }
   ],
   "source": [
    "from sklearn.ensemble import RandomForestRegressor\n",
    "\n",
    "# Create Random Forest model\n",
    "rf_model = RandomForestRegressor(n_estimators=100)\n",
    "rf_model.fit(feat_train, Y_train)\n",
    "\n",
    "# start time\n",
    "start = timer()\n",
    "rf_predictions_train = rf_model.predict(feat_train)\n",
    "# end time\n",
    "end = timer()\n",
    "print(\"Time taken to predict with trained data: \", end - start)\n"
   ]
  },
  {
   "cell_type": "code",
   "execution_count": 63,
   "id": "0328b281-602e-4c51-a6dd-5a9e735314c2",
   "metadata": {},
   "outputs": [
    {
     "name": "stdout",
     "output_type": "stream",
     "text": [
      "Time taken to predict with trained data:  0.00048143230378627777\n"
     ]
    }
   ],
   "source": [
    "from sklearn.tree import DecisionTreeRegressor\n",
    "\n",
    "# Create Decision Tree model\n",
    "dt_model = DecisionTreeRegressor()\n",
    "dt_model.fit(feat_train, Y_train)\n",
    "\n",
    "# start time\n",
    "start = timer()\n",
    "dt_predictions_train = dt_model.predict(feat_train)\n",
    "# end time\n",
    "end = timer()\n",
    "print(\"Time taken to predict with trained data: \", end - start)\n"
   ]
  },
  {
   "cell_type": "code",
   "execution_count": 64,
   "id": "64585b54-19d8-4bda-9910-b7ade20fdc38",
   "metadata": {},
   "outputs": [
    {
     "name": "stdout",
     "output_type": "stream",
     "text": [
      "Time taken to predict with trained data:  0.0013573896139860153\n"
     ]
    }
   ],
   "source": [
    "from sklearn.linear_model import SGDRegressor\n",
    "\n",
    "# Create SGD model\n",
    "sgd_model = SGDRegressor(loss='epsilon_insensitive', epsilon=0.1, max_iter=1000, tol=1e-3)\n",
    "sgd_model.fit(feat_train, Y_train)\n",
    "\n",
    "# start time\n",
    "start = timer()\n",
    "sgd_predictions_train = sgd_model.predict(feat_train)\n",
    "# end time\n",
    "end = timer()\n",
    "print(\"Time taken to predict with trained data: \", end - start)\n"
   ]
  },
  {
   "cell_type": "code",
   "execution_count": 65,
   "id": "3868ec96-b30c-413a-864d-f7aae9328976",
   "metadata": {},
   "outputs": [
    {
     "name": "stdout",
     "output_type": "stream",
     "text": [
      "24/24 [==============================] - 1s 50ms/step\n",
      "CNN Model Performance:\n",
      "Mean Squared Error: 0.07507867487671616\n",
      "Mean Absolute Error: 0.1335667706726129\n",
      "R-squared: 0.9981025880689965\n",
      "Explained Variance Score: 0.998173330066856\n",
      "CNN + SVR Model Performance:\n",
      "Mean Squared Error: 0.029607964804956696\n",
      "Mean Absolute Error: 0.10096115218635612\n",
      "R-squared: 0.9992517381831005\n",
      "Explained Variance Score: 0.9992517405433268\n"
     ]
    }
   ],
   "source": [
    "from sklearn.metrics import mean_squared_error, mean_absolute_error, r2_score, explained_variance_score, mean_squared_log_error\n",
    "from sklearn.model_selection import train_test_split\n",
    "import numpy as np\n",
    "from tqdm import tqdm\n",
    "from sklearn.svm import SVR\n",
    "\n",
    "\n",
    "# Evaluate CNN model \n",
    "Y_pred_cnn = cnn_model.predict(X_test)\n",
    "\n",
    "mse_cnn = mean_squared_error(Y_test, Y_pred_cnn)\n",
    "mae_cnn = mean_absolute_error(Y_test, Y_pred_cnn)\n",
    "r2_cnn = r2_score(Y_test, Y_pred_cnn)\n",
    "evs_cnn = explained_variance_score(Y_test, Y_pred_cnn)\n",
    "\n",
    "print(\"CNN Model Performance:\")\n",
    "print(\"Mean Squared Error:\", mse_cnn)\n",
    "print(\"Mean Absolute Error:\", mae_cnn)\n",
    "print(\"R-squared:\", r2_cnn)\n",
    "print(\"Explained Variance Score:\", evs_cnn)\n",
    "\n",
    "\n",
    "# SVR model\n",
    "\n",
    "svr_predictions = svr_model.predict(feat_test)\n",
    "\n",
    "\n",
    "# Concatenate SVR predictions with CNN predictions\n",
    "combined_predictions = np.column_stack((Y_test, svr_predictions))\n",
    "\n",
    "mse_combined = mean_squared_error(Y_test, svr_predictions)\n",
    "mae_combined = mean_absolute_error(Y_test, svr_predictions)\n",
    "r2_combined = r2_score(Y_test, svr_predictions)\n",
    "evs_combined = explained_variance_score(Y_test, svr_predictions)\n",
    "\n",
    "\n",
    "print(\"CNN + SVR Model Performance:\")\n",
    "print(\"Mean Squared Error:\", mse_combined)\n",
    "print(\"Mean Absolute Error:\", mae_combined)\n",
    "print(\"R-squared:\", r2_combined)\n",
    "print(\"Explained Variance Score:\", evs_combined)"
   ]
  },
  {
   "cell_type": "code",
   "execution_count": 66,
   "id": "3ee68753-cb07-4c14-943c-99993cb4c13c",
   "metadata": {},
   "outputs": [
    {
     "name": "stdout",
     "output_type": "stream",
     "text": [
      "24/24 [==============================] - 1s 46ms/step\n",
      "CNN Model Performance:\n",
      "Mean Squared Error: 0.07507867487671616\n",
      "Mean Absolute Error: 0.1335667706726129\n",
      "R-squared: 0.9981025880689965\n",
      "Explained Variance Score: 0.998173330066856\n",
      "CNN + XGBoost Model Performance:\n",
      "Mean Squared Error: 0.007144036871676732\n",
      "Mean Absolute Error: 0.018741546860064053\n",
      "R-squared: 0.9998194536488809\n",
      "Explained Variance Score: 0.9998207816511249\n"
     ]
    }
   ],
   "source": [
    "from sklearn.metrics import mean_squared_error, mean_absolute_error, r2_score, explained_variance_score, mean_squared_log_error\n",
    "from sklearn.model_selection import train_test_split\n",
    "import numpy as np\n",
    "from tqdm import tqdm\n",
    "from sklearn.svm import SVR\n",
    "\n",
    "\n",
    "# Evaluate CNN model \n",
    "Y_pred_cnn = cnn_model.predict(X_test)\n",
    "\n",
    "mse_cnn = mean_squared_error(Y_test, Y_pred_cnn)\n",
    "mae_cnn = mean_absolute_error(Y_test, Y_pred_cnn)\n",
    "r2_cnn = r2_score(Y_test, Y_pred_cnn)\n",
    "evs_cnn = explained_variance_score(Y_test, Y_pred_cnn)\n",
    "\n",
    "print(\"CNN Model Performance:\")\n",
    "print(\"Mean Squared Error:\", mse_cnn)\n",
    "print(\"Mean Absolute Error:\", mae_cnn)\n",
    "print(\"R-squared:\", r2_cnn)\n",
    "print(\"Explained Variance Score:\", evs_cnn)\n",
    "\n",
    "\n",
    "import xgboost as xgb\n",
    "\n",
    "# XGBoost model\n",
    "xgb_predictions = xgb_model.predict(feat_test)\n",
    "\n",
    "mse_xgb = mean_squared_error(Y_test, xgb_predictions)\n",
    "mae_xgb = mean_absolute_error(Y_test, xgb_predictions)\n",
    "r2_xgb = r2_score(Y_test, xgb_predictions)\n",
    "evs_xgb = explained_variance_score(Y_test, xgb_predictions)\n",
    "\n",
    "print(\"CNN + XGBoost Model Performance:\")\n",
    "print(\"Mean Squared Error:\", mse_xgb)\n",
    "print(\"Mean Absolute Error:\", mae_xgb)\n",
    "print(\"R-squared:\", r2_xgb)\n",
    "print(\"Explained Variance Score:\", evs_xgb)\n"
   ]
  },
  {
   "cell_type": "code",
   "execution_count": 67,
   "id": "f8e81f1e-5b3c-48ea-9579-fce01f926871",
   "metadata": {},
   "outputs": [
    {
     "name": "stdout",
     "output_type": "stream",
     "text": [
      "24/24 [==============================] - 1s 54ms/step\n",
      "CNN Model Performance:\n",
      "Mean Squared Error: 0.07507867487671616\n",
      "Mean Absolute Error: 0.1335667706726129\n",
      "R-squared: 0.9981025880689965\n",
      "Explained Variance Score: 0.998173330066856\n",
      "CNN + Random Forest Model Performance:\n",
      "Mean Squared Error: 0.008413143252765293\n",
      "Mean Absolute Error: 0.01618478043523932\n",
      "R-squared: 0.9997873803924849\n",
      "Explained Variance Score: 0.9997886277913237\n"
     ]
    }
   ],
   "source": [
    "from sklearn.metrics import mean_squared_error, mean_absolute_error, r2_score, explained_variance_score, mean_squared_log_error\n",
    "from sklearn.model_selection import train_test_split\n",
    "import numpy as np\n",
    "from tqdm import tqdm\n",
    "from sklearn.svm import SVR\n",
    "\n",
    "\n",
    "# Evaluate CNN model \n",
    "Y_pred_cnn = cnn_model.predict(X_test)\n",
    "\n",
    "mse_cnn = mean_squared_error(Y_test, Y_pred_cnn)\n",
    "mae_cnn = mean_absolute_error(Y_test, Y_pred_cnn)\n",
    "r2_cnn = r2_score(Y_test, Y_pred_cnn)\n",
    "evs_cnn = explained_variance_score(Y_test, Y_pred_cnn)\n",
    "\n",
    "print(\"CNN Model Performance:\")\n",
    "print(\"Mean Squared Error:\", mse_cnn)\n",
    "print(\"Mean Absolute Error:\", mae_cnn)\n",
    "print(\"R-squared:\", r2_cnn)\n",
    "print(\"Explained Variance Score:\", evs_cnn)\n",
    "\n",
    "\n",
    "from sklearn.ensemble import RandomForestRegressor\n",
    "\n",
    "# Random Forest model\n",
    "rf_predictions = rf_model.predict(feat_test)\n",
    "\n",
    "mse_rf = mean_squared_error(Y_test, rf_predictions)\n",
    "mae_rf = mean_absolute_error(Y_test, rf_predictions)\n",
    "r2_rf = r2_score(Y_test, rf_predictions)\n",
    "evs_rf = explained_variance_score(Y_test, rf_predictions)\n",
    "\n",
    "print(\"CNN + Random Forest Model Performance:\")\n",
    "print(\"Mean Squared Error:\", mse_rf)\n",
    "print(\"Mean Absolute Error:\", mae_rf)\n",
    "print(\"R-squared:\", r2_rf)\n",
    "print(\"Explained Variance Score:\", evs_rf)\n"
   ]
  },
  {
   "cell_type": "code",
   "execution_count": 68,
   "id": "b5f9cf98-da85-4e24-a64a-33afd2f954e7",
   "metadata": {},
   "outputs": [
    {
     "name": "stdout",
     "output_type": "stream",
     "text": [
      "24/24 [==============================] - 1s 52ms/step\n",
      "CNN Model Performance:\n",
      "Mean Squared Error: 0.07507867487671616\n",
      "Mean Absolute Error: 0.1335667706726129\n",
      "R-squared: 0.9981025880689965\n",
      "Explained Variance Score: 0.998173330066856\n",
      "CNN + Decision Tree Model Performance:\n",
      "Mean Squared Error: 0.014591938632264543\n",
      "Mean Absolute Error: 0.009919088661027408\n",
      "R-squared: 0.9996312279285324\n",
      "Explained Variance Score: 0.9996315657610321\n"
     ]
    }
   ],
   "source": [
    "from sklearn.metrics import mean_squared_error, mean_absolute_error, r2_score, explained_variance_score, mean_squared_log_error\n",
    "from sklearn.model_selection import train_test_split\n",
    "import numpy as np\n",
    "from tqdm import tqdm\n",
    "from sklearn.svm import SVR\n",
    "\n",
    "\n",
    "# Evaluate CNN model \n",
    "Y_pred_cnn = cnn_model.predict(X_test)\n",
    "\n",
    "mse_cnn = mean_squared_error(Y_test, Y_pred_cnn)\n",
    "mae_cnn = mean_absolute_error(Y_test, Y_pred_cnn)\n",
    "r2_cnn = r2_score(Y_test, Y_pred_cnn)\n",
    "evs_cnn = explained_variance_score(Y_test, Y_pred_cnn)\n",
    "\n",
    "print(\"CNN Model Performance:\")\n",
    "print(\"Mean Squared Error:\", mse_cnn)\n",
    "print(\"Mean Absolute Error:\", mae_cnn)\n",
    "print(\"R-squared:\", r2_cnn)\n",
    "print(\"Explained Variance Score:\", evs_cnn)\n",
    "\n",
    "\n",
    "from sklearn.tree import DecisionTreeRegressor\n",
    "\n",
    "# Decision Tree model\n",
    "dt_predictions = dt_model.predict(feat_test)\n",
    "\n",
    "mse_dt = mean_squared_error(Y_test, dt_predictions)\n",
    "mae_dt = mean_absolute_error(Y_test, dt_predictions)\n",
    "r2_dt = r2_score(Y_test, dt_predictions)\n",
    "evs_dt = explained_variance_score(Y_test, dt_predictions)\n",
    "\n",
    "print(\"CNN + Decision Tree Model Performance:\")\n",
    "print(\"Mean Squared Error:\", mse_dt)\n",
    "print(\"Mean Absolute Error:\", mae_dt)\n",
    "print(\"R-squared:\", r2_dt)\n",
    "print(\"Explained Variance Score:\", evs_dt)\n"
   ]
  },
  {
   "cell_type": "code",
   "execution_count": 69,
   "id": "f3e15b20-9fd9-43a3-a5f0-02d4a16a0c4c",
   "metadata": {},
   "outputs": [
    {
     "name": "stdout",
     "output_type": "stream",
     "text": [
      "24/24 [==============================] - 1s 47ms/step\n",
      "CNN Model Performance:\n",
      "Mean Squared Error: 0.07507867487671616\n",
      "Mean Absolute Error: 0.1335667706726129\n",
      "R-squared: 0.9981025880689965\n",
      "Explained Variance Score: 0.998173330066856\n",
      "CNN + SGD Model Performance:\n",
      "Mean Squared Error: 0.0700190753152954\n",
      "Mean Absolute Error: 0.12885361413227583\n",
      "R-squared: 0.9982304558635428\n",
      "Explained Variance Score: 0.9982598559878992\n"
     ]
    }
   ],
   "source": [
    "from sklearn.metrics import mean_squared_error, mean_absolute_error, r2_score, explained_variance_score, mean_squared_log_error\n",
    "from sklearn.model_selection import train_test_split\n",
    "import numpy as np\n",
    "from tqdm import tqdm\n",
    "from sklearn.svm import SVR\n",
    "\n",
    "\n",
    "# Evaluate CNN model \n",
    "Y_pred_cnn = cnn_model.predict(X_test)\n",
    "\n",
    "mse_cnn = mean_squared_error(Y_test, Y_pred_cnn)\n",
    "mae_cnn = mean_absolute_error(Y_test, Y_pred_cnn)\n",
    "r2_cnn = r2_score(Y_test, Y_pred_cnn)\n",
    "evs_cnn = explained_variance_score(Y_test, Y_pred_cnn)\n",
    "\n",
    "print(\"CNN Model Performance:\")\n",
    "print(\"Mean Squared Error:\", mse_cnn)\n",
    "print(\"Mean Absolute Error:\", mae_cnn)\n",
    "print(\"R-squared:\", r2_cnn)\n",
    "print(\"Explained Variance Score:\", evs_cnn)\n",
    "\n",
    "from sklearn.linear_model import SGDRegressor\n",
    "\n",
    "# SGD model\n",
    "sgd_predictions = sgd_model.predict(feat_test)\n",
    "\n",
    "mse_sgd = mean_squared_error(Y_test, sgd_predictions)\n",
    "mae_sgd = mean_absolute_error(Y_test, sgd_predictions)\n",
    "r2_sgd = r2_score(Y_test, sgd_predictions)\n",
    "evs_sgd = explained_variance_score(Y_test, sgd_predictions)\n",
    "\n",
    "print(\"CNN + SGD Model Performance:\")\n",
    "print(\"Mean Squared Error:\", mse_sgd)\n",
    "print(\"Mean Absolute Error:\", mae_sgd)\n",
    "print(\"R-squared:\", r2_sgd)\n",
    "print(\"Explained Variance Score:\", evs_sgd)\n"
   ]
  },
  {
   "cell_type": "code",
   "execution_count": 70,
   "id": "4bbead81-1456-48d0-8c94-b278c59e8756",
   "metadata": {},
   "outputs": [
    {
     "name": "stderr",
     "output_type": "stream",
     "text": [
      "WARNING:absl:`lr` is deprecated in Keras optimizer, please use `learning_rate` or use the legacy optimizer, e.g.,tf.keras.optimizers.legacy.Adam.\n"
     ]
    },
    {
     "name": "stdout",
     "output_type": "stream",
     "text": [
      "Model: \"model_5\"\n",
      "_________________________________________________________________\n",
      " Layer (type)                Output Shape              Param #   \n",
      "=================================================================\n",
      " input_4 (InputLayer)        [(None, 420, 420, 1)]     0         \n",
      "                                                                 \n",
      " conv2d_12 (Conv2D)          (None, 418, 418, 4)       40        \n",
      "                                                                 \n",
      " max_pooling2d_12 (MaxPoolin  (None, 209, 209, 4)      0         \n",
      " g2D)                                                            \n",
      "                                                                 \n",
      " conv2d_13 (Conv2D)          (None, 207, 207, 8)       296       \n",
      "                                                                 \n",
      " max_pooling2d_13 (MaxPoolin  (None, 103, 103, 8)      0         \n",
      " g2D)                                                            \n",
      "                                                                 \n",
      " conv2d_14 (Conv2D)          (None, 101, 101, 16)      1168      \n",
      "                                                                 \n",
      " max_pooling2d_14 (MaxPoolin  (None, 50, 50, 16)       0         \n",
      " g2D)                                                            \n",
      "                                                                 \n",
      " conv2d_15 (Conv2D)          (None, 48, 48, 32)        4640      \n",
      "                                                                 \n",
      " max_pooling2d_15 (MaxPoolin  (None, 24, 24, 32)       0         \n",
      " g2D)                                                            \n",
      "                                                                 \n",
      " flatten_3 (Flatten)         (None, 18432)             0         \n",
      "                                                                 \n",
      " dense_3 (Dense)             (None, 1024)              18875392  \n",
      "                                                                 \n",
      " bisect (Dense)              (None, 512)               524800    \n",
      "                                                                 \n",
      " evm (Dense)                 (None, 1)                 513       \n",
      "                                                                 \n",
      "=================================================================\n",
      "Total params: 19,406,849\n",
      "Trainable params: 19,406,849\n",
      "Non-trainable params: 0\n",
      "_________________________________________________________________\n",
      "Epoch 1/30\n",
      "12/12 [==============================] - 6s 425ms/step - loss: 0.8553 - val_loss: 0.1539\n",
      "Epoch 2/30\n",
      "12/12 [==============================] - 5s 419ms/step - loss: 0.1160 - val_loss: 0.0396\n",
      "Epoch 3/30\n",
      "12/12 [==============================] - 5s 418ms/step - loss: 0.0266 - val_loss: 0.0145\n",
      "Epoch 4/30\n",
      "12/12 [==============================] - 5s 410ms/step - loss: 0.0120 - val_loss: 0.0069\n",
      "Epoch 5/30\n",
      "12/12 [==============================] - 5s 411ms/step - loss: 0.0047 - val_loss: 0.0046\n",
      "Epoch 6/30\n",
      "12/12 [==============================] - 5s 414ms/step - loss: 0.0028 - val_loss: 0.0034\n",
      "Epoch 7/30\n",
      "12/12 [==============================] - 5s 418ms/step - loss: 0.0021 - val_loss: 0.0025\n",
      "Epoch 8/30\n",
      "12/12 [==============================] - 5s 407ms/step - loss: 0.0014 - val_loss: 0.0016\n",
      "Epoch 9/30\n",
      "12/12 [==============================] - 5s 384ms/step - loss: 8.9515e-04 - val_loss: 0.0011\n",
      "Epoch 10/30\n",
      "12/12 [==============================] - 5s 392ms/step - loss: 6.2362e-04 - val_loss: 9.5528e-04\n",
      "Epoch 11/30\n",
      "12/12 [==============================] - 5s 414ms/step - loss: 5.5899e-04 - val_loss: 9.9603e-04\n",
      "Epoch 12/30\n",
      "12/12 [==============================] - 5s 419ms/step - loss: 4.7912e-04 - val_loss: 8.6709e-04\n",
      "Epoch 13/30\n",
      "12/12 [==============================] - 5s 404ms/step - loss: 4.9468e-04 - val_loss: 9.3799e-04\n",
      "Epoch 14/30\n",
      "12/12 [==============================] - 5s 410ms/step - loss: 4.8061e-04 - val_loss: 7.1205e-04\n",
      "Epoch 15/30\n",
      "12/12 [==============================] - 5s 417ms/step - loss: 3.8783e-04 - val_loss: 7.2115e-04\n",
      "Epoch 16/30\n",
      "12/12 [==============================] - 5s 415ms/step - loss: 3.2416e-04 - val_loss: 7.3225e-04\n",
      "Epoch 17/30\n",
      "12/12 [==============================] - 5s 414ms/step - loss: 3.1241e-04 - val_loss: 8.8372e-04\n",
      "Epoch 18/30\n",
      "12/12 [==============================] - 5s 401ms/step - loss: 3.6801e-04 - val_loss: 6.2876e-04\n",
      "Epoch 19/30\n",
      "12/12 [==============================] - 5s 410ms/step - loss: 3.0511e-04 - val_loss: 5.9921e-04\n",
      "Epoch 20/30\n",
      "12/12 [==============================] - 5s 391ms/step - loss: 2.7750e-04 - val_loss: 8.9319e-04\n",
      "Epoch 21/30\n",
      "12/12 [==============================] - 5s 404ms/step - loss: 2.4927e-04 - val_loss: 5.4959e-04\n",
      "Epoch 22/30\n",
      "12/12 [==============================] - 5s 389ms/step - loss: 2.1205e-04 - val_loss: 5.7384e-04\n",
      "Epoch 23/30\n",
      "12/12 [==============================] - 5s 401ms/step - loss: 2.1028e-04 - val_loss: 5.9894e-04\n",
      "Epoch 24/30\n",
      "12/12 [==============================] - 5s 412ms/step - loss: 2.2271e-04 - val_loss: 5.1915e-04\n",
      "Epoch 25/30\n",
      "12/12 [==============================] - 5s 395ms/step - loss: 3.2690e-04 - val_loss: 7.5923e-04\n",
      "Epoch 26/30\n",
      "12/12 [==============================] - 5s 399ms/step - loss: 2.4618e-04 - val_loss: 5.0871e-04\n",
      "Epoch 27/30\n",
      "12/12 [==============================] - 5s 397ms/step - loss: 1.7652e-04 - val_loss: 5.2068e-04\n",
      "Epoch 28/30\n",
      "12/12 [==============================] - 5s 408ms/step - loss: 1.7786e-04 - val_loss: 5.6591e-04\n",
      "Epoch 29/30\n",
      "12/12 [==============================] - 5s 413ms/step - loss: 1.3039e-04 - val_loss: 5.0147e-04\n",
      "Epoch 30/30\n",
      "12/12 [==============================] - 4s 371ms/step - loss: 1.5118e-04 - val_loss: 6.8880e-04\n",
      "4/4 [==============================] - 0s 42ms/step\n",
      "CNN Model Performance:\n",
      "Mean Squared Error: 0.09319740064890852\n",
      "Mean Absolute Error: 0.22319658758486316\n",
      "R-squared: 0.998383100412454\n",
      "Explained Variance Score: 0.9984813799278692\n"
     ]
    }
   ],
   "source": [
    "import os\n",
    "import numpy as np\n",
    "from sklearn.model_selection import train_test_split\n",
    "from sklearn.metrics import mean_squared_error, mean_absolute_error, r2_score, explained_variance_score\n",
    "from tensorflow.keras.models import Model\n",
    "from tensorflow.keras.layers import Input, Conv2D, MaxPooling2D, Flatten, Dense\n",
    "from tensorflow.keras import optimizers\n",
    "\n",
    "# Define the model and results folder\n",
    "model_folder = 'conv_classifier_regressor'\n",
    "results_folder = os.path.join(folder, 'results', model_folder)\n",
    "if not os.path.isdir(results_folder):\n",
    "    os.makedirs(results_folder)\n",
    "    print('Created folder', results_folder)\n",
    "\n",
    "# Define the input shape and model architecture\n",
    "input_0 = Input(shape=(X_trainset1.shape[1], X_trainset1.shape[2], 1))\n",
    "conv_0 = Conv2D(4, kernel_size=(3, 3), activation='relu')(input_0)\n",
    "pool_0 = MaxPooling2D(pool_size=(2, 2))(conv_0)\n",
    "\n",
    "conv_1 = Conv2D(8, kernel_size=(3, 3), activation='relu')(pool_0)\n",
    "pool_1 = MaxPooling2D(pool_size=(2, 2))(conv_1)\n",
    "\n",
    "conv_2 = Conv2D(16, kernel_size=(3, 3), activation='relu')(pool_1)\n",
    "pool_2 = MaxPooling2D(pool_size=(2, 2))(conv_2)\n",
    "\n",
    "conv_3 = Conv2D(32, kernel_size=(3, 3), activation='relu')(pool_2)\n",
    "pool_3 = MaxPooling2D(pool_size=(2, 2))(conv_3)\n",
    "\n",
    "flat_0 = Flatten()(pool_3)\n",
    "dense_0 = Dense(1024, activation='relu')(flat_0)\n",
    "dense_1_0 = Dense(512, activation='relu', name='bisect')(dense_0)\n",
    "\n",
    "out_0 = Dense(1, name='evm')(dense_1_0)\n",
    "cnn_model = Model(inputs=input_0, outputs=out_0)\n",
    "cnn_model.compile(optimizer=optimizers.Adam(lr=1e-04), loss='msle')\n",
    "cnn_model.summary()\n",
    "\n",
    "# Split the data into train and test sets\n",
    "X_trainset1, X_testset1, Y_trainset1, Y_testset1 = train_test_split(X_trainset1, Y_trainset1, test_size=0.2, random_state=42)\n",
    "\n",
    "# Train the CNN model\n",
    "cnn_model.fit(X_trainset1, Y_trainset1, epochs=30, batch_size=32, validation_split=0.2)\n",
    "\n",
    "# Evaluate the CNN model\n",
    "Y_pred_cnn = cnn_model.predict(X_testset1)\n",
    "\n",
    "mse_cnn = mean_squared_error(Y_testset1, Y_pred_cnn)\n",
    "mae_cnn = mean_absolute_error(Y_testset1, Y_pred_cnn)\n",
    "r2_cnn = r2_score(Y_testset1, Y_pred_cnn)\n",
    "evs_cnn = explained_variance_score(Y_testset1, Y_pred_cnn)\n",
    "\n",
    "print(\"CNN Model Performance:\")\n",
    "print(\"Mean Squared Error:\", mse_cnn)\n",
    "print(\"Mean Absolute Error:\", mae_cnn)\n",
    "print(\"R-squared:\", r2_cnn)\n",
    "print(\"Explained Variance Score:\", evs_cnn)\n"
   ]
  },
  {
   "cell_type": "code",
   "execution_count": 71,
   "id": "8e6ce6a8-3a49-404f-9456-d1e0f7a9cc49",
   "metadata": {},
   "outputs": [
    {
     "name": "stdout",
     "output_type": "stream",
     "text": [
      "15/15 [==============================] - 1s 45ms/step\n",
      "(480, 512)\n"
     ]
    }
   ],
   "source": [
    "model_feat = Model(inputs=cnn_model.input, outputs=cnn_model.get_layer(\"bisect\").output)\n",
    "feat_train = model_feat.predict(X_trainset1)\n",
    "print(feat_train.shape)"
   ]
  },
  {
   "cell_type": "code",
   "execution_count": 72,
   "id": "0b684c24-f5cb-46db-b08a-9ba91b6dcbd2",
   "metadata": {},
   "outputs": [
    {
     "name": "stdout",
     "output_type": "stream",
     "text": [
      "4/4 [==============================] - 0s 51ms/step\n",
      "(120, 512)\n"
     ]
    }
   ],
   "source": [
    "feat_test = model_feat.predict(X_testset1)\n",
    "print(feat_test.shape)"
   ]
  },
  {
   "cell_type": "code",
   "execution_count": 73,
   "id": "2712726a-fc13-420a-a1fa-d4b078b0dd5d",
   "metadata": {},
   "outputs": [
    {
     "name": "stdout",
     "output_type": "stream",
     "text": [
      "Time taken to predict with trained data:  0.022470945492386818\n"
     ]
    }
   ],
   "source": [
    "from tensorflow.keras.models import Model\n",
    "from sklearn.svm import SVR\n",
    "import xgboost as xgb\n",
    "from sklearn.ensemble import RandomForestRegressor\n",
    "from sklearn.tree import DecisionTreeRegressor\n",
    "from sklearn.linear_model import SGDRegressor\n",
    "from timeit import default_timer as timer\n",
    "# Create SVR model\n",
    "svr_model = SVR(kernel='rbf', C=10.0, epsilon=0.1)\n",
    "svr_model.fit(feat_train, Y_trainset1)\n",
    "\n",
    "# start time\n",
    "start = timer()\n",
    "svr_predictions_train = svr_model.predict(feat_train)\n",
    "# end time\n",
    "end = timer()\n",
    "print(\"Time taken to predict with trained data: \", end - start)\n"
   ]
  },
  {
   "cell_type": "code",
   "execution_count": 74,
   "id": "6e39e4d7-3c95-434b-801b-fed0865aac3c",
   "metadata": {},
   "outputs": [
    {
     "name": "stdout",
     "output_type": "stream",
     "text": [
      "Time taken to predict with trained data:  0.0017111040651798248\n"
     ]
    }
   ],
   "source": [
    "# Create XGBoost model\n",
    "xgb_model = xgb.XGBRegressor(objective='reg:squarederror', n_estimators=100, learning_rate=0.1)\n",
    "xgb_model.fit(feat_train, Y_trainset1)\n",
    "\n",
    "# start time\n",
    "start = timer()\n",
    "xgb_predictions_train = xgb_model.predict(feat_train)\n",
    "# end time\n",
    "end = timer()\n",
    "print(\"Time taken to predict with trained data: \", end - start)\n"
   ]
  },
  {
   "cell_type": "code",
   "execution_count": 75,
   "id": "533220fb-15cc-4fcc-a32c-421633f13ef8",
   "metadata": {},
   "outputs": [
    {
     "name": "stdout",
     "output_type": "stream",
     "text": [
      "Time taken to predict with trained data:  0.009448304772377014\n"
     ]
    }
   ],
   "source": [
    "# Create Random Forest model\n",
    "rf_model = RandomForestRegressor(n_estimators=100)\n",
    "rf_model.fit(feat_train, Y_trainset1)\n",
    "\n",
    "# start time\n",
    "start = timer()\n",
    "rf_predictions_train = rf_model.predict(feat_train)\n",
    "# end time\n",
    "end = timer()\n",
    "print(\"Time taken to predict with trained data: \", end - start)\n"
   ]
  },
  {
   "cell_type": "code",
   "execution_count": 76,
   "id": "d0b514a6-3ab6-49d1-930e-6dce807d1b78",
   "metadata": {},
   "outputs": [
    {
     "name": "stdout",
     "output_type": "stream",
     "text": [
      "Time taken to predict with trained data:  0.0003116857260465622\n"
     ]
    }
   ],
   "source": [
    "# Create Decision Tree model\n",
    "dt_model = DecisionTreeRegressor()\n",
    "dt_model.fit(feat_train, Y_trainset1)\n",
    "\n",
    "# start time\n",
    "start = timer()\n",
    "dt_predictions_train = dt_model.predict(feat_train)\n",
    "# end time\n",
    "end = timer()\n",
    "print(\"Time taken to predict with trained data: \", end - start)\n"
   ]
  },
  {
   "cell_type": "code",
   "execution_count": 77,
   "id": "08bb2adf-17b1-43e5-94cd-dfa682db60d7",
   "metadata": {},
   "outputs": [
    {
     "name": "stdout",
     "output_type": "stream",
     "text": [
      "Time taken to predict with trained data:  0.0009936951100826263\n"
     ]
    }
   ],
   "source": [
    "# Create SGD model\n",
    "sgd_model = SGDRegressor(loss='epsilon_insensitive', epsilon=0.1, max_iter=1000, tol=1e-3)\n",
    "sgd_model.fit(feat_train, Y_trainset1)\n",
    "\n",
    "# start time\n",
    "start = timer()\n",
    "sgd_predictions_train = sgd_model.predict(feat_train)\n",
    "# end time\n",
    "end = timer()\n",
    "print(\"Time taken to predict with trained data: \", end - start)"
   ]
  },
  {
   "cell_type": "code",
   "execution_count": 78,
   "id": "5e6b7286-7c07-480a-a71f-65f8ba903058",
   "metadata": {},
   "outputs": [
    {
     "name": "stdout",
     "output_type": "stream",
     "text": [
      "4/4 [==============================] - 0s 26ms/step\n",
      "CNN Model Performance:\n",
      "Mean Squared Error: 0.09319740064890852\n",
      "Mean Absolute Error: 0.22319658758486316\n",
      "R-squared: 0.998383100412454\n",
      "Explained Variance Score: 0.9984813799278692\n",
      "CNN + SVR Model Performance:\n",
      "Mean Squared Error: 0.06118721200610771\n",
      "Mean Absolute Error: 0.17601846266145332\n",
      "R-squared: 0.9989384513176665\n",
      "Explained Variance Score: 0.9989441678755333\n"
     ]
    }
   ],
   "source": [
    "from sklearn.metrics import mean_squared_error, mean_absolute_error, r2_score, explained_variance_score\n",
    "from sklearn.model_selection import train_test_split\n",
    "import numpy as np\n",
    "from tqdm import tqdm\n",
    "from sklearn.svm import SVR\n",
    "import xgboost as xgb\n",
    "from sklearn.ensemble import RandomForestRegressor\n",
    "from sklearn.tree import DecisionTreeRegressor\n",
    "from sklearn.linear_model import SGDRegressor\n",
    "\n",
    "# Evaluate CNN model \n",
    "Y_pred_cnn = cnn_model.predict(X_testset1)\n",
    "\n",
    "mse_cnn = mean_squared_error(Y_testset1, Y_pred_cnn)\n",
    "mae_cnn = mean_absolute_error(Y_testset1, Y_pred_cnn)\n",
    "r2_cnn = r2_score(Y_testset1, Y_pred_cnn)\n",
    "evs_cnn = explained_variance_score(Y_testset1, Y_pred_cnn)\n",
    "\n",
    "print(\"CNN Model Performance:\")\n",
    "print(\"Mean Squared Error:\", mse_cnn)\n",
    "print(\"Mean Absolute Error:\", mae_cnn)\n",
    "print(\"R-squared:\", r2_cnn)\n",
    "print(\"Explained Variance Score:\", evs_cnn)\n",
    "\n",
    "\n",
    "# SVR model\n",
    "svr_predictions = svr_model.predict(feat_test)\n",
    "\n",
    "mse_svr = mean_squared_error(Y_testset1, svr_predictions)\n",
    "mae_svr = mean_absolute_error(Y_testset1, svr_predictions)\n",
    "r2_svr = r2_score(Y_testset1, svr_predictions)\n",
    "evs_svr = explained_variance_score(Y_testset1, svr_predictions)\n",
    "\n",
    "print(\"CNN + SVR Model Performance:\")\n",
    "print(\"Mean Squared Error:\", mse_svr)\n",
    "print(\"Mean Absolute Error:\", mae_svr)\n",
    "print(\"R-squared:\", r2_svr)\n",
    "print(\"Explained Variance Score:\", evs_svr)"
   ]
  },
  {
   "cell_type": "code",
   "execution_count": 79,
   "id": "855132ea-021c-4a60-9844-edf566b9ba73",
   "metadata": {},
   "outputs": [
    {
     "name": "stdout",
     "output_type": "stream",
     "text": [
      "24/24 [==============================] - 1s 48ms/step\n",
      "CNN Model Performance:\n",
      "Mean Squared Error: 38.32944974198886\n",
      "Mean Absolute Error: 3.377752460176816\n",
      "R-squared: 0.03132606737308663\n",
      "Explained Variance Score: 0.27612939398497494\n",
      "CNN + XGBoost Model Performance:\n",
      "Mean Squared Error: 0.015856978499013553\n",
      "Mean Absolute Error: 0.018752507077279563\n",
      "R-squared: 0.9997248942372184\n",
      "Explained Variance Score: 0.9997250425659743\n"
     ]
    }
   ],
   "source": [
    "\n",
    "from sklearn.metrics import mean_squared_error, mean_absolute_error, r2_score, explained_variance_score, mean_squared_log_error\n",
    "from sklearn.model_selection import train_test_split\n",
    "import numpy as np\n",
    "from tqdm import tqdm\n",
    "from sklearn.svm import SVR\n",
    "\n",
    "\n",
    "# Evaluate CNN model \n",
    "Y_pred_cnn = cnn_model.predict(X_test)\n",
    "\n",
    "mse_cnn = mean_squared_error(Y_test, Y_pred_cnn)\n",
    "mae_cnn = mean_absolute_error(Y_test, Y_pred_cnn)\n",
    "r2_cnn = r2_score(Y_test, Y_pred_cnn)\n",
    "evs_cnn = explained_variance_score(Y_test, Y_pred_cnn)\n",
    "\n",
    "print(\"CNN Model Performance:\")\n",
    "print(\"Mean Squared Error:\", mse_cnn)\n",
    "print(\"Mean Absolute Error:\", mae_cnn)\n",
    "print(\"R-squared:\", r2_cnn)\n",
    "print(\"Explained Variance Score:\", evs_cnn)\n",
    "\n",
    "\n",
    "import xgboost as xgb\n",
    "# XGBoost model\n",
    "xgb_predictions = xgb_model.predict(feat_test)\n",
    "\n",
    "mse_xgb = mean_squared_error(Y_testset1, xgb_predictions)\n",
    "mae_xgb = mean_absolute_error(Y_testset1, xgb_predictions)\n",
    "r2_xgb = r2_score(Y_testset1, xgb_predictions)\n",
    "evs_xgb = explained_variance_score(Y_testset1, xgb_predictions)\n",
    "\n",
    "print(\"CNN + XGBoost Model Performance:\")\n",
    "print(\"Mean Squared Error:\", mse_xgb)\n",
    "print(\"Mean Absolute Error:\", mae_xgb)\n",
    "print(\"R-squared:\", r2_xgb)\n",
    "print(\"Explained Variance Score:\", evs_xgb)\n",
    "\n",
    "\n"
   ]
  },
  {
   "cell_type": "code",
   "execution_count": 80,
   "id": "c5e5a1b8-afa1-450b-86f2-46cdef4599b7",
   "metadata": {},
   "outputs": [
    {
     "name": "stdout",
     "output_type": "stream",
     "text": [
      "24/24 [==============================] - 1s 50ms/step\n",
      "CNN Model Performance:\n",
      "Mean Squared Error: 38.32944974198886\n",
      "Mean Absolute Error: 3.377752460176816\n",
      "R-squared: 0.03132606737308663\n",
      "Explained Variance Score: 0.27612939398497494\n",
      "CNN + Random Forest Model Performance:\n",
      "Mean Squared Error: 0.004389587487574698\n",
      "Mean Absolute Error: 0.01819194006097952\n",
      "R-squared: 0.9999238442043583\n",
      "Explained Variance Score: 0.99992481728793\n"
     ]
    }
   ],
   "source": [
    "from sklearn.metrics import mean_squared_error, mean_absolute_error, r2_score, explained_variance_score, mean_squared_log_error\n",
    "from sklearn.model_selection import train_test_split\n",
    "import numpy as np\n",
    "from tqdm import tqdm\n",
    "from sklearn.svm import SVR\n",
    "\n",
    "\n",
    "# Evaluate CNN model \n",
    "Y_pred_cnn = cnn_model.predict(X_test)\n",
    "\n",
    "mse_cnn = mean_squared_error(Y_test, Y_pred_cnn)\n",
    "mae_cnn = mean_absolute_error(Y_test, Y_pred_cnn)\n",
    "r2_cnn = r2_score(Y_test, Y_pred_cnn)\n",
    "evs_cnn = explained_variance_score(Y_test, Y_pred_cnn)\n",
    "\n",
    "print(\"CNN Model Performance:\")\n",
    "print(\"Mean Squared Error:\", mse_cnn)\n",
    "print(\"Mean Absolute Error:\", mae_cnn)\n",
    "print(\"R-squared:\", r2_cnn)\n",
    "print(\"Explained Variance Score:\", evs_cnn)\n",
    "\n",
    "\n",
    "from sklearn.ensemble import RandomForestRegressor\n",
    "# Random Forest model\n",
    "rf_predictions = rf_model.predict(feat_test)\n",
    "\n",
    "mse_rf = mean_squared_error(Y_testset1, rf_predictions)\n",
    "mae_rf = mean_absolute_error(Y_testset1, rf_predictions)\n",
    "r2_rf = r2_score(Y_testset1, rf_predictions)\n",
    "evs_rf = explained_variance_score(Y_testset1, rf_predictions)\n",
    "\n",
    "print(\"CNN + Random Forest Model Performance:\")\n",
    "print(\"Mean Squared Error:\", mse_rf)\n",
    "print(\"Mean Absolute Error:\", mae_rf)\n",
    "print(\"R-squared:\", r2_rf)\n",
    "print(\"Explained Variance Score:\", evs_rf)\n",
    "\n",
    "\n"
   ]
  },
  {
   "cell_type": "code",
   "execution_count": 81,
   "id": "8f46556c-3bf8-42e2-9deb-5fac3c156dc1",
   "metadata": {},
   "outputs": [
    {
     "name": "stdout",
     "output_type": "stream",
     "text": [
      "24/24 [==============================] - 1s 55ms/step\n",
      "CNN Model Performance:\n",
      "Mean Squared Error: 38.32944974198886\n",
      "Mean Absolute Error: 3.377752460176816\n",
      "R-squared: 0.03132606737308663\n",
      "Explained Variance Score: 0.27612939398497494\n",
      "CNN + Decision Tree Model Performance:\n",
      "Mean Squared Error: 1.0110567268582634e-29\n",
      "Mean Absolute Error: 2.1908401019269757e-15\n",
      "R-squared: 1.0\n",
      "Explained Variance Score: 1.0\n"
     ]
    }
   ],
   "source": [
    "from sklearn.metrics import mean_squared_error, mean_absolute_error, r2_score, explained_variance_score, mean_squared_log_error\n",
    "from sklearn.model_selection import train_test_split\n",
    "import numpy as np\n",
    "from tqdm import tqdm\n",
    "from sklearn.svm import SVR\n",
    "\n",
    "\n",
    "# Evaluate CNN model \n",
    "Y_pred_cnn = cnn_model.predict(X_test)\n",
    "\n",
    "mse_cnn = mean_squared_error(Y_test, Y_pred_cnn)\n",
    "mae_cnn = mean_absolute_error(Y_test, Y_pred_cnn)\n",
    "r2_cnn = r2_score(Y_test, Y_pred_cnn)\n",
    "evs_cnn = explained_variance_score(Y_test, Y_pred_cnn)\n",
    "\n",
    "print(\"CNN Model Performance:\")\n",
    "print(\"Mean Squared Error:\", mse_cnn)\n",
    "print(\"Mean Absolute Error:\", mae_cnn)\n",
    "print(\"R-squared:\", r2_cnn)\n",
    "print(\"Explained Variance Score:\", evs_cnn)\n",
    "\n",
    "\n",
    "from sklearn.tree import DecisionTreeRegressor\n",
    "\n",
    "dt_predictions = dt_model.predict(feat_test)\n",
    "\n",
    "mse_dt = mean_squared_error(Y_testset1, dt_predictions)\n",
    "mae_dt = mean_absolute_error(Y_testset1, dt_predictions)\n",
    "r2_dt = r2_score(Y_testset1, dt_predictions)\n",
    "evs_dt = explained_variance_score(Y_testset1, dt_predictions)\n",
    "\n",
    "print(\"CNN + Decision Tree Model Performance:\")\n",
    "print(\"Mean Squared Error:\", mse_dt)\n",
    "print(\"Mean Absolute Error:\", mae_dt)\n",
    "print(\"R-squared:\", r2_dt)\n",
    "print(\"Explained Variance Score:\", evs_dt)\n",
    "\n"
   ]
  },
  {
   "cell_type": "code",
   "execution_count": 82,
   "id": "751d49b0-6fd4-44aa-94bc-7d76e498296b",
   "metadata": {},
   "outputs": [
    {
     "name": "stdout",
     "output_type": "stream",
     "text": [
      "24/24 [==============================] - 1s 54ms/step\n",
      "CNN Model Performance:\n",
      "Mean Squared Error: 38.32944974198886\n",
      "Mean Absolute Error: 3.377752460176816\n",
      "R-squared: 0.03132606737308663\n",
      "Explained Variance Score: 0.27612939398497494\n",
      "CNN + SGD Model Performance:\n",
      "Mean Squared Error: 0.9250952838729312\n",
      "Mean Absolute Error: 0.820755536618218\n",
      "R-squared: 0.9839503444031694\n",
      "Explained Variance Score: 0.9956176981666468\n"
     ]
    }
   ],
   "source": [
    "from sklearn.metrics import mean_squared_error, mean_absolute_error, r2_score, explained_variance_score, mean_squared_log_error\n",
    "from sklearn.model_selection import train_test_split\n",
    "import numpy as np\n",
    "from tqdm import tqdm\n",
    "from sklearn.svm import SVR\n",
    "\n",
    "\n",
    "# Evaluate CNN model \n",
    "Y_pred_cnn = cnn_model.predict(X_test)\n",
    "\n",
    "mse_cnn = mean_squared_error(Y_test, Y_pred_cnn)\n",
    "mae_cnn = mean_absolute_error(Y_test, Y_pred_cnn)\n",
    "r2_cnn = r2_score(Y_test, Y_pred_cnn)\n",
    "evs_cnn = explained_variance_score(Y_test, Y_pred_cnn)\n",
    "\n",
    "print(\"CNN Model Performance:\")\n",
    "print(\"Mean Squared Error:\", mse_cnn)\n",
    "print(\"Mean Absolute Error:\", mae_cnn)\n",
    "print(\"R-squared:\", r2_cnn)\n",
    "print(\"Explained Variance Score:\", evs_cnn)\n",
    "\n",
    "from sklearn.linear_model import SGDRegressor\n",
    "\n",
    "# SGD model\n",
    "sgd_predictions = sgd_model.predict(feat_test)\n",
    "\n",
    "mse_sgd = mean_squared_error(Y_testset1, sgd_predictions)\n",
    "mae_sgd = mean_absolute_error(Y_testset1, sgd_predictions)\n",
    "r2_sgd = r2_score(Y_testset1, sgd_predictions)\n",
    "evs_sgd = explained_variance_score(Y_testset1, sgd_predictions)\n",
    "\n",
    "print(\"CNN + SGD Model Performance:\")\n",
    "print(\"Mean Squared Error:\", mse_sgd)\n",
    "print(\"Mean Absolute Error:\", mae_sgd)\n",
    "print(\"R-squared:\", r2_sgd)\n",
    "print(\"Explained Variance Score:\", evs_sgd)\n",
    "\n"
   ]
  },
  {
   "cell_type": "code",
   "execution_count": 83,
   "id": "c666f76f-c19e-46d9-bce5-e977fa158cdd",
   "metadata": {},
   "outputs": [
    {
     "name": "stderr",
     "output_type": "stream",
     "text": [
      "WARNING:absl:`lr` is deprecated in Keras optimizer, please use `learning_rate` or use the legacy optimizer, e.g.,tf.keras.optimizers.legacy.Adam.\n"
     ]
    },
    {
     "name": "stdout",
     "output_type": "stream",
     "text": [
      "Model: \"model_7\"\n",
      "_________________________________________________________________\n",
      " Layer (type)                Output Shape              Param #   \n",
      "=================================================================\n",
      " input_5 (InputLayer)        [(None, 420, 420, 1)]     0         \n",
      "                                                                 \n",
      " conv2d_16 (Conv2D)          (None, 418, 418, 4)       40        \n",
      "                                                                 \n",
      " max_pooling2d_16 (MaxPoolin  (None, 209, 209, 4)      0         \n",
      " g2D)                                                            \n",
      "                                                                 \n",
      " conv2d_17 (Conv2D)          (None, 207, 207, 8)       296       \n",
      "                                                                 \n",
      " max_pooling2d_17 (MaxPoolin  (None, 103, 103, 8)      0         \n",
      " g2D)                                                            \n",
      "                                                                 \n",
      " conv2d_18 (Conv2D)          (None, 101, 101, 16)      1168      \n",
      "                                                                 \n",
      " max_pooling2d_18 (MaxPoolin  (None, 50, 50, 16)       0         \n",
      " g2D)                                                            \n",
      "                                                                 \n",
      " conv2d_19 (Conv2D)          (None, 48, 48, 32)        4640      \n",
      "                                                                 \n",
      " max_pooling2d_19 (MaxPoolin  (None, 24, 24, 32)       0         \n",
      " g2D)                                                            \n",
      "                                                                 \n",
      " flatten_4 (Flatten)         (None, 18432)             0         \n",
      "                                                                 \n",
      " dense_4 (Dense)             (None, 1024)              18875392  \n",
      "                                                                 \n",
      " bisect (Dense)              (None, 512)               524800    \n",
      "                                                                 \n",
      " evm (Dense)                 (None, 1)                 513       \n",
      "                                                                 \n",
      "=================================================================\n",
      "Total params: 19,406,849\n",
      "Trainable params: 19,406,849\n",
      "Non-trainable params: 0\n",
      "_________________________________________________________________\n",
      "Epoch 1/30\n",
      "7/7 [==============================] - 4s 393ms/step - loss: 3.3384 - val_loss: 3.3518\n",
      "Epoch 2/30\n",
      "7/7 [==============================] - 3s 374ms/step - loss: 3.3384 - val_loss: 3.3518\n",
      "Epoch 3/30\n",
      "7/7 [==============================] - 3s 374ms/step - loss: 3.3384 - val_loss: 3.3518\n",
      "Epoch 4/30\n",
      "7/7 [==============================] - 3s 400ms/step - loss: 3.3384 - val_loss: 3.3518\n",
      "Epoch 5/30\n",
      "7/7 [==============================] - 3s 394ms/step - loss: 3.3384 - val_loss: 3.3518\n",
      "Epoch 6/30\n",
      "7/7 [==============================] - 3s 377ms/step - loss: 3.3384 - val_loss: 3.3518\n",
      "Epoch 7/30\n",
      "7/7 [==============================] - 3s 377ms/step - loss: 3.3384 - val_loss: 3.3518\n",
      "Epoch 8/30\n",
      "7/7 [==============================] - 3s 365ms/step - loss: 3.3384 - val_loss: 3.3518\n",
      "Epoch 9/30\n",
      "7/7 [==============================] - 2s 350ms/step - loss: 3.3384 - val_loss: 3.3518\n",
      "Epoch 10/30\n",
      "7/7 [==============================] - 2s 359ms/step - loss: 3.3384 - val_loss: 3.3518\n",
      "Epoch 11/30\n",
      "7/7 [==============================] - 3s 370ms/step - loss: 3.3384 - val_loss: 3.3518\n",
      "Epoch 12/30\n",
      "7/7 [==============================] - 3s 376ms/step - loss: 3.3384 - val_loss: 3.3518\n",
      "Epoch 13/30\n",
      "7/7 [==============================] - 2s 344ms/step - loss: 3.3384 - val_loss: 3.3518\n",
      "Epoch 14/30\n",
      "7/7 [==============================] - 3s 370ms/step - loss: 3.3384 - val_loss: 3.3518\n",
      "Epoch 15/30\n",
      "7/7 [==============================] - 2s 360ms/step - loss: 3.3384 - val_loss: 3.3518\n",
      "Epoch 16/30\n",
      "7/7 [==============================] - 3s 366ms/step - loss: 3.3384 - val_loss: 3.3518\n",
      "Epoch 17/30\n",
      "7/7 [==============================] - 3s 364ms/step - loss: 3.3384 - val_loss: 3.3518\n",
      "Epoch 18/30\n",
      "7/7 [==============================] - 3s 377ms/step - loss: 3.3384 - val_loss: 3.3518\n",
      "Epoch 19/30\n",
      "7/7 [==============================] - 3s 395ms/step - loss: 3.3384 - val_loss: 3.3518\n",
      "Epoch 20/30\n",
      "7/7 [==============================] - 3s 363ms/step - loss: 3.3384 - val_loss: 3.3518\n",
      "Epoch 21/30\n",
      "7/7 [==============================] - 3s 370ms/step - loss: 3.3384 - val_loss: 3.3518\n",
      "Epoch 22/30\n",
      "7/7 [==============================] - 3s 366ms/step - loss: 3.3384 - val_loss: 3.3518\n",
      "Epoch 23/30\n",
      "7/7 [==============================] - 3s 390ms/step - loss: 3.3384 - val_loss: 3.3518\n",
      "Epoch 24/30\n",
      "7/7 [==============================] - 3s 402ms/step - loss: 3.3384 - val_loss: 3.3518\n",
      "Epoch 25/30\n",
      "7/7 [==============================] - 3s 401ms/step - loss: 3.3384 - val_loss: 3.3518\n",
      "Epoch 26/30\n",
      "7/7 [==============================] - 3s 430ms/step - loss: 3.3384 - val_loss: 3.3518\n",
      "Epoch 27/30\n",
      "7/7 [==============================] - 3s 416ms/step - loss: 3.3384 - val_loss: 3.3518\n",
      "Epoch 28/30\n",
      "7/7 [==============================] - 3s 409ms/step - loss: 3.3384 - val_loss: 3.3518\n",
      "Epoch 29/30\n",
      "7/7 [==============================] - 3s 407ms/step - loss: 3.3384 - val_loss: 3.3518\n",
      "Epoch 30/30\n",
      "7/7 [==============================] - 3s 356ms/step - loss: 3.3384 - val_loss: 3.3518\n",
      "6/6 [==============================] - 0s 29ms/step\n",
      "CNN Model Performance:\n",
      "Mean Squared Error: 30.926860221233635\n",
      "Mean Absolute Error: 5.5236068448718125\n",
      "R-squared: -73.80567866461641\n",
      "Explained Variance Score: -0.007736106275642252\n"
     ]
    }
   ],
   "source": [
    "from sklearn.metrics import mean_squared_error, mean_absolute_error, r2_score, explained_variance_score\n",
    "from sklearn.model_selection import train_test_split\n",
    "import numpy as np\n",
    "from tqdm import tqdm\n",
    "from sklearn.svm import SVR\n",
    "import xgboost as xgb\n",
    "from sklearn.ensemble import RandomForestRegressor\n",
    "from sklearn.tree import DecisionTreeRegressor\n",
    "from sklearn.linear_model import SGDRegressor\n",
    "import os\n",
    "\n",
    "# Specify the model folder\n",
    "model_folder = 'conv_classifier_regressor'\n",
    "results_folder = os.path.join(folder, 'results', model_folder)\n",
    "if not os.path.isdir(results_folder):\n",
    "    os.makedirs(results_folder)\n",
    "    print('created folder', results_folder)\n",
    "\n",
    "# Define the CNN model architecture\n",
    "input_0 = Input(shape=(X_trainset2.shape[1], X_trainset2.shape[2], 1))\n",
    "conv_0 = Conv2D(4, kernel_size=(3, 3), activation='relu')(input_0)\n",
    "pool_0 = MaxPooling2D(pool_size=(2, 2))(conv_0)\n",
    "\n",
    "conv_1 = Conv2D(8, kernel_size=(3, 3), activation='relu')(pool_0)\n",
    "pool_1 = MaxPooling2D(pool_size=(2, 2))(conv_1)\n",
    "\n",
    "conv_2 = Conv2D(16, kernel_size=(3, 3), activation='relu')(pool_1)\n",
    "pool_2 = MaxPooling2D(pool_size=(2, 2))(conv_2)\n",
    "\n",
    "conv_3 = Conv2D(32, kernel_size=(3, 3), activation='relu')(pool_2)\n",
    "pool_3 = MaxPooling2D(pool_size=(2, 2))(conv_3)\n",
    "\n",
    "flat_0 = Flatten()(pool_3)\n",
    "dense_0 = Dense(1024, activation='relu')(flat_0)\n",
    "dense_1_0 = Dense(512, activation='relu', name='bisect')(dense_0)\n",
    "\n",
    "out_0 = Dense(1, name='evm')(dense_1_0)\n",
    "cnn_model = Model(inputs=input_0, outputs=out_0)\n",
    "cnn_model.compile(optimizer=optimizers.Adam(lr=1e-04), loss='msle')\n",
    "cnn_model.summary()\n",
    "\n",
    "# Split the data into train and test sets\n",
    "X_train_cnn, X_test_cnn, Y_train_cnn, Y_test_cnn = train_test_split(X_trainset2, Y_trainset2, test_size=0.2, random_state=42)\n",
    "\n",
    "# Train the CNN model\n",
    "cnn_model.fit(X_train_cnn, Y_train_cnn, epochs=30, batch_size=32, validation_split=0.2)\n",
    "\n",
    "# Evaluate CNN model\n",
    "Y_pred_cnn = cnn_model.predict(X_testset2)\n",
    "\n",
    "mse_cnn = mean_squared_error(Y_testset2, Y_pred_cnn)\n",
    "mae_cnn = mean_absolute_error(Y_testset2, Y_pred_cnn)\n",
    "r2_cnn = r2_score(Y_testset2, Y_pred_cnn)\n",
    "evs_cnn = explained_variance_score(Y_testset2, Y_pred_cnn)\n",
    "\n",
    "print(\"CNN Model Performance:\")\n",
    "print(\"Mean Squared Error:\", mse_cnn)\n",
    "print(\"Mean Absolute Error:\", mae_cnn)\n",
    "print(\"R-squared:\", r2_cnn)\n",
    "print(\"Explained Variance Score:\", evs_cnn)"
   ]
  },
  {
   "cell_type": "code",
   "execution_count": 84,
   "id": "28a83070-d222-46da-9ff4-d4081812121e",
   "metadata": {},
   "outputs": [
    {
     "name": "stdout",
     "output_type": "stream",
     "text": [
      "11/11 [==============================] - 1s 46ms/step\n",
      "(325, 512)\n"
     ]
    }
   ],
   "source": [
    "model_feat = Model(inputs=cnn_model.input, outputs=cnn_model.get_layer(\"bisect\").output)\n",
    "feat_train = model_feat.predict(X_trainset2)\n",
    "print(feat_train.shape)"
   ]
  },
  {
   "cell_type": "code",
   "execution_count": 85,
   "id": "5383a0c4-5575-4c0b-8ff5-024bc58ecaca",
   "metadata": {},
   "outputs": [
    {
     "name": "stdout",
     "output_type": "stream",
     "text": [
      "6/6 [==============================] - 0s 29ms/step\n",
      "(162, 512)\n"
     ]
    }
   ],
   "source": [
    "feat_test = model_feat.predict(X_testset2)\n",
    "print(feat_test.shape)"
   ]
  },
  {
   "cell_type": "code",
   "execution_count": 86,
   "id": "8876d494-e035-4104-a73d-6acefe8a4fc2",
   "metadata": {},
   "outputs": [
    {
     "name": "stdout",
     "output_type": "stream",
     "text": [
      "Time taken to predict with trained data:  0.00978255644440651\n"
     ]
    }
   ],
   "source": [
    "from timeit import default_timer as timer\n",
    "from sklearn.svm import SVR\n",
    "\n",
    "# Create SVR model\n",
    "svr_model = SVR(kernel='rbf', C=10.0, epsilon=0.1)\n",
    "svr_model.fit(feat_train, Y_trainset2)\n",
    "\n",
    "# Start time\n",
    "start = timer()\n",
    "svr_predictions_train = svr_model.predict(feat_train)\n",
    "# End time\n",
    "end = timer()\n",
    "print(\"Time taken to predict with trained data: \", end - start)\n"
   ]
  },
  {
   "cell_type": "code",
   "execution_count": 87,
   "id": "86cab294-01b3-4164-b090-11f6d7224453",
   "metadata": {},
   "outputs": [
    {
     "name": "stdout",
     "output_type": "stream",
     "text": [
      "Time taken to predict with trained data:  0.0017330124974250793\n"
     ]
    }
   ],
   "source": [
    "import xgboost as xgb\n",
    "\n",
    "# Create XGBoost model\n",
    "xgb_model = xgb.XGBRegressor(objective='reg:squarederror', n_estimators=100, learning_rate=0.1)\n",
    "xgb_model.fit(feat_train, Y_trainset2)\n",
    "\n",
    "# Start time\n",
    "start = timer()\n",
    "xgb_predictions_train = xgb_model.predict(feat_train)\n",
    "# End time\n",
    "end = timer()\n",
    "print(\"Time taken to predict with trained data: \", end - start)\n"
   ]
  },
  {
   "cell_type": "code",
   "execution_count": 88,
   "id": "294773fd-9a31-432d-b213-54933343510a",
   "metadata": {},
   "outputs": [
    {
     "name": "stdout",
     "output_type": "stream",
     "text": [
      "Time taken to predict with trained data:  0.006910894066095352\n"
     ]
    }
   ],
   "source": [
    "from sklearn.ensemble import RandomForestRegressor\n",
    "\n",
    "# Create Random Forest model\n",
    "rf_model = RandomForestRegressor(n_estimators=100)\n",
    "rf_model.fit(feat_train, Y_trainset2)\n",
    "\n",
    "# Start time\n",
    "start = timer()\n",
    "rf_predictions_train = rf_model.predict(feat_train)\n",
    "# End time\n",
    "end = timer()\n",
    "print(\"Time taken to predict with trained data: \", end - start)\n",
    "\n"
   ]
  },
  {
   "cell_type": "code",
   "execution_count": 89,
   "id": "d05cbd41-3e6f-45bf-a9fe-518faf873d3a",
   "metadata": {},
   "outputs": [
    {
     "name": "stdout",
     "output_type": "stream",
     "text": [
      "Time taken to predict with trained data:  0.0002777799963951111\n"
     ]
    }
   ],
   "source": [
    "from sklearn.tree import DecisionTreeRegressor\n",
    "\n",
    "# Create Decision Tree model\n",
    "dt_model = DecisionTreeRegressor()\n",
    "dt_model.fit(feat_train, Y_trainset2)\n",
    "\n",
    "# Start time\n",
    "start = timer()\n",
    "dt_predictions_train = dt_model.predict(feat_train)\n",
    "# End time\n",
    "end = timer()\n",
    "print(\"Time taken to predict with trained data: \", end - start)\n"
   ]
  },
  {
   "cell_type": "code",
   "execution_count": 90,
   "id": "d3399064-d3eb-41aa-b7f1-d026b6eba1e3",
   "metadata": {},
   "outputs": [
    {
     "name": "stdout",
     "output_type": "stream",
     "text": [
      "Time taken to predict with trained data:  0.0006718654185533524\n"
     ]
    }
   ],
   "source": [
    "from sklearn.linear_model import SGDRegressor\n",
    "\n",
    "# Create SGD model\n",
    "sgd_model = SGDRegressor(loss='epsilon_insensitive', epsilon=0.1, max_iter=1000, tol=1e-3)\n",
    "sgd_model.fit(feat_train, Y_trainset2)\n",
    "\n",
    "# Start time\n",
    "start = timer()\n",
    "sgd_predictions_train = sgd_model.predict(feat_train)\n",
    "# End time\n",
    "end = timer()\n",
    "print(\"Time taken to predict with trained data: \", end - start)"
   ]
  },
  {
   "cell_type": "code",
   "execution_count": 91,
   "id": "627d8a68-2e70-496a-86df-44f372adf92c",
   "metadata": {},
   "outputs": [
    {
     "name": "stdout",
     "output_type": "stream",
     "text": [
      "6/6 [==============================] - 0s 40ms/step\n",
      "CNN Model Performance:\n",
      "Mean Squared Error: 30.926860221233635\n",
      "Mean Absolute Error: 5.5236068448718125\n",
      "R-squared: -73.80567866461641\n",
      "Explained Variance Score: -0.007736106275642252\n",
      "CNN + SVR Model Performance:\n",
      "Mean Squared Error: 0.1745318762650198\n",
      "Mean Absolute Error: 0.2557150484820016\n",
      "R-squared: 0.5778434875309539\n",
      "Explained Variance Score: 0.6657948164384937\n"
     ]
    }
   ],
   "source": [
    "from sklearn.metrics import mean_squared_error, mean_absolute_error, r2_score, explained_variance_score, mean_squared_log_error\n",
    "from sklearn.model_selection import train_test_split\n",
    "import numpy as np\n",
    "from tqdm import tqdm\n",
    "from sklearn.svm import SVR\n",
    "\n",
    "# Evaluate CNN model\n",
    "Y_pred_cnn = cnn_model.predict(X_testset2)\n",
    "\n",
    "mse_cnn = mean_squared_error(Y_testset2, Y_pred_cnn)\n",
    "mae_cnn = mean_absolute_error(Y_testset2, Y_pred_cnn)\n",
    "r2_cnn = r2_score(Y_testset2, Y_pred_cnn)\n",
    "evs_cnn = explained_variance_score(Y_testset2, Y_pred_cnn)\n",
    "\n",
    "print(\"CNN Model Performance:\")\n",
    "print(\"Mean Squared Error:\", mse_cnn)\n",
    "print(\"Mean Absolute Error:\", mae_cnn)\n",
    "print(\"R-squared:\", r2_cnn)\n",
    "print(\"Explained Variance Score:\", evs_cnn)\n",
    "\n",
    "# SVR model\n",
    "svr_predictions = svr_model.predict(feat_test)\n",
    "\n",
    "mse_combined = mean_squared_error(Y_testset2, svr_predictions)\n",
    "mae_combined = mean_absolute_error(Y_testset2, svr_predictions)\n",
    "r2_combined = r2_score(Y_testset2, svr_predictions)\n",
    "evs_combined = explained_variance_score(Y_testset2, svr_predictions)\n",
    "\n",
    "print(\"CNN + SVR Model Performance:\")\n",
    "print(\"Mean Squared Error:\", mse_combined)\n",
    "print(\"Mean Absolute Error:\", mae_combined)\n",
    "print(\"R-squared:\", r2_combined)\n",
    "print(\"Explained Variance Score:\", evs_combined)\n"
   ]
  },
  {
   "cell_type": "code",
   "execution_count": 92,
   "id": "48095fe8-2181-4239-bb69-7c9dfc9ebbf4",
   "metadata": {},
   "outputs": [
    {
     "name": "stdout",
     "output_type": "stream",
     "text": [
      "24/24 [==============================] - 1s 56ms/step\n",
      "CNN Model Performance:\n",
      "Mean Squared Error: 112.10705511133666\n",
      "Mean Absolute Error: 8.518157583500468\n",
      "R-squared: -1.8332048250345099\n",
      "Explained Variance Score: 0.0005293062405008486\n",
      "CNN + XGBoost Model Performance:\n",
      "Mean Squared Error: 0.20956755622341902\n",
      "Mean Absolute Error: 0.2690156579756964\n",
      "R-squared: 0.493099423697247\n",
      "Explained Variance Score: 0.6321136622720358\n"
     ]
    }
   ],
   "source": [
    "from sklearn.metrics import mean_squared_error, mean_absolute_error, r2_score, explained_variance_score, mean_squared_log_error\n",
    "from sklearn.model_selection import train_test_split\n",
    "import numpy as np\n",
    "from tqdm import tqdm\n",
    "from sklearn.svm import SVR\n",
    "\n",
    "\n",
    "# Evaluate CNN model \n",
    "Y_pred_cnn = cnn_model.predict(X_test)\n",
    "\n",
    "mse_cnn = mean_squared_error(Y_test, Y_pred_cnn)\n",
    "mae_cnn = mean_absolute_error(Y_test, Y_pred_cnn)\n",
    "r2_cnn = r2_score(Y_test, Y_pred_cnn)\n",
    "evs_cnn = explained_variance_score(Y_test, Y_pred_cnn)\n",
    "\n",
    "print(\"CNN Model Performance:\")\n",
    "print(\"Mean Squared Error:\", mse_cnn)\n",
    "print(\"Mean Absolute Error:\", mae_cnn)\n",
    "print(\"R-squared:\", r2_cnn)\n",
    "print(\"Explained Variance Score:\", evs_cnn)\n",
    "\n",
    "import xgboost as xgb\n",
    "\n",
    "# XGBoost model\n",
    "xgb_predictions = xgb_model.predict(feat_test)\n",
    "\n",
    "mse_xgb = mean_squared_error(Y_testset2, xgb_predictions)\n",
    "mae_xgb = mean_absolute_error(Y_testset2, xgb_predictions)\n",
    "r2_xgb = r2_score(Y_testset2, xgb_predictions)\n",
    "evs_xgb = explained_variance_score(Y_testset2, xgb_predictions)\n",
    "\n",
    "print(\"CNN + XGBoost Model Performance:\")\n",
    "print(\"Mean Squared Error:\", mse_xgb)\n",
    "print(\"Mean Absolute Error:\", mae_xgb)\n",
    "print(\"R-squared:\", r2_xgb)\n",
    "print(\"Explained Variance Score:\", evs_xgb)\n"
   ]
  },
  {
   "cell_type": "code",
   "execution_count": 93,
   "id": "b54d69da-17db-47db-a7e4-5f155927666e",
   "metadata": {},
   "outputs": [
    {
     "name": "stdout",
     "output_type": "stream",
     "text": [
      "24/24 [==============================] - 1s 56ms/step\n",
      "CNN Model Performance:\n",
      "Mean Squared Error: 112.10705511133666\n",
      "Mean Absolute Error: 8.518157583500468\n",
      "R-squared: -1.8332048250345099\n",
      "Explained Variance Score: 0.0005293062405008486\n",
      "CNN + Random Forest Model Performance:\n",
      "Mean Squared Error: 0.23979326374839308\n",
      "Mean Absolute Error: 0.27930844529439014\n",
      "R-squared: 0.41998968839435646\n",
      "Explained Variance Score: 0.5803252669809746\n"
     ]
    }
   ],
   "source": [
    "from sklearn.metrics import mean_squared_error, mean_absolute_error, r2_score, explained_variance_score, mean_squared_log_error\n",
    "from sklearn.model_selection import train_test_split\n",
    "import numpy as np\n",
    "from tqdm import tqdm\n",
    "from sklearn.svm import SVR\n",
    "\n",
    "\n",
    "# Evaluate CNN model \n",
    "Y_pred_cnn = cnn_model.predict(X_test)\n",
    "\n",
    "mse_cnn = mean_squared_error(Y_test, Y_pred_cnn)\n",
    "mae_cnn = mean_absolute_error(Y_test, Y_pred_cnn)\n",
    "r2_cnn = r2_score(Y_test, Y_pred_cnn)\n",
    "evs_cnn = explained_variance_score(Y_test, Y_pred_cnn)\n",
    "\n",
    "print(\"CNN Model Performance:\")\n",
    "print(\"Mean Squared Error:\", mse_cnn)\n",
    "print(\"Mean Absolute Error:\", mae_cnn)\n",
    "print(\"R-squared:\", r2_cnn)\n",
    "print(\"Explained Variance Score:\", evs_cnn)\n",
    "\n",
    "\n",
    "from sklearn.ensemble import RandomForestRegressor\n",
    "\n",
    "# Random Forest model\n",
    "rf_predictions = rf_model.predict(feat_test)\n",
    "\n",
    "mse_rf = mean_squared_error(Y_testset2, rf_predictions)\n",
    "mae_rf = mean_absolute_error(Y_testset2, rf_predictions)\n",
    "r2_rf = r2_score(Y_testset2, rf_predictions)\n",
    "evs_rf = explained_variance_score(Y_testset2, rf_predictions)\n",
    "\n",
    "print(\"CNN + Random Forest Model Performance:\")\n",
    "print(\"Mean Squared Error:\", mse_rf)\n",
    "print(\"Mean Absolute Error:\", mae_rf)\n",
    "print(\"R-squared:\", r2_rf)\n",
    "print(\"Explained Variance Score:\", evs_rf)\n"
   ]
  },
  {
   "cell_type": "code",
   "execution_count": 94,
   "id": "ae859f0a-109b-42aa-a25f-effdc09f69a0",
   "metadata": {},
   "outputs": [
    {
     "name": "stdout",
     "output_type": "stream",
     "text": [
      "24/24 [==============================] - 1s 52ms/step\n",
      "CNN Model Performance:\n",
      "Mean Squared Error: 112.10705511133666\n",
      "Mean Absolute Error: 8.518157583500468\n",
      "R-squared: -1.8332048250345099\n",
      "Explained Variance Score: 0.0005293062405008486\n",
      "CNN + Decision Tree Model Performance:\n",
      "Mean Squared Error: 0.24930452315616017\n",
      "Mean Absolute Error: 0.2868246553367966\n",
      "R-squared: 0.39698391898021024\n",
      "Explained Variance Score: 0.5415055373665545\n"
     ]
    }
   ],
   "source": [
    "from sklearn.metrics import mean_squared_error, mean_absolute_error, r2_score, explained_variance_score, mean_squared_log_error\n",
    "from sklearn.model_selection import train_test_split\n",
    "import numpy as np\n",
    "from tqdm import tqdm\n",
    "from sklearn.svm import SVR\n",
    "\n",
    "\n",
    "# Evaluate CNN model \n",
    "Y_pred_cnn = cnn_model.predict(X_test)\n",
    "\n",
    "mse_cnn = mean_squared_error(Y_test, Y_pred_cnn)\n",
    "mae_cnn = mean_absolute_error(Y_test, Y_pred_cnn)\n",
    "r2_cnn = r2_score(Y_test, Y_pred_cnn)\n",
    "evs_cnn = explained_variance_score(Y_test, Y_pred_cnn)\n",
    "\n",
    "print(\"CNN Model Performance:\")\n",
    "print(\"Mean Squared Error:\", mse_cnn)\n",
    "print(\"Mean Absolute Error:\", mae_cnn)\n",
    "print(\"R-squared:\", r2_cnn)\n",
    "print(\"Explained Variance Score:\", evs_cnn)\n",
    "\n",
    "\n",
    "from sklearn.tree import DecisionTreeRegressor\n",
    "\n",
    "# Decision Tree model\n",
    "dt_predictions = dt_model.predict(feat_test)\n",
    "\n",
    "mse_dt = mean_squared_error(Y_testset2, dt_predictions)\n",
    "mae_dt = mean_absolute_error(Y_testset2, dt_predictions)\n",
    "r2_dt = r2_score(Y_testset2, dt_predictions)\n",
    "evs_dt = explained_variance_score(Y_testset2, dt_predictions)\n",
    "\n",
    "print(\"CNN + Decision Tree Model Performance:\")\n",
    "print(\"Mean Squared Error:\", mse_dt)\n",
    "print(\"Mean Absolute Error:\", mae_dt)\n",
    "print(\"R-squared:\", r2_dt)\n",
    "print(\"Explained Variance Score:\", evs_dt)\n"
   ]
  },
  {
   "cell_type": "code",
   "execution_count": 95,
   "id": "e211da1f-294c-46b3-b1b1-b50e28fd506c",
   "metadata": {},
   "outputs": [
    {
     "name": "stdout",
     "output_type": "stream",
     "text": [
      "24/24 [==============================] - 1s 61ms/step\n",
      "CNN Model Performance:\n",
      "Mean Squared Error: 112.10705511133666\n",
      "Mean Absolute Error: 8.518157583500468\n",
      "R-squared: -1.8332048250345099\n",
      "Explained Variance Score: 0.0005293062405008486\n",
      "CNN + SGD Model Performance:\n",
      "Mean Squared Error: 0.515988452452287\n",
      "Mean Absolute Error: 0.5150666576976075\n",
      "R-squared: -0.24806935112984507\n",
      "Explained Variance Score: 0.09781133927058672\n"
     ]
    }
   ],
   "source": [
    "from sklearn.metrics import mean_squared_error, mean_absolute_error, r2_score, explained_variance_score, mean_squared_log_error\n",
    "from sklearn.model_selection import train_test_split\n",
    "import numpy as np\n",
    "from tqdm import tqdm\n",
    "from sklearn.svm import SVR\n",
    "\n",
    "\n",
    "# Evaluate CNN model \n",
    "Y_pred_cnn = cnn_model.predict(X_test)\n",
    "\n",
    "mse_cnn = mean_squared_error(Y_test, Y_pred_cnn)\n",
    "mae_cnn = mean_absolute_error(Y_test, Y_pred_cnn)\n",
    "r2_cnn = r2_score(Y_test, Y_pred_cnn)\n",
    "evs_cnn = explained_variance_score(Y_test, Y_pred_cnn)\n",
    "\n",
    "print(\"CNN Model Performance:\")\n",
    "print(\"Mean Squared Error:\", mse_cnn)\n",
    "print(\"Mean Absolute Error:\", mae_cnn)\n",
    "print(\"R-squared:\", r2_cnn)\n",
    "print(\"Explained Variance Score:\", evs_cnn)\n",
    "\n",
    "from sklearn.linear_model import SGDRegressor\n",
    "\n",
    "from sklearn.linear_model import SGDRegressor\n",
    "\n",
    "# SGD model\n",
    "sgd_predictions = sgd_model.predict(feat_test)\n",
    "\n",
    "mse_sgd = mean_squared_error(Y_testset2, sgd_predictions)\n",
    "mae_sgd = mean_absolute_error(Y_testset2, sgd_predictions)\n",
    "r2_sgd = r2_score(Y_testset2, sgd_predictions)\n",
    "evs_sgd = explained_variance_score(Y_testset2, sgd_predictions)\n",
    "\n",
    "print(\"CNN + SGD Model Performance:\")\n",
    "print(\"Mean Squared Error:\", mse_sgd)\n",
    "print(\"Mean Absolute Error:\", mae_sgd)\n",
    "print(\"R-squared:\", r2_sgd)\n",
    "print(\"Explained Variance Score:\", evs_sgd)\n",
    "\n"
   ]
  },
  {
   "cell_type": "code",
   "execution_count": null,
   "id": "ece70c2f-4a02-41e2-afe5-eb41242c4a8f",
   "metadata": {},
   "outputs": [],
   "source": []
  },
  {
   "cell_type": "code",
   "execution_count": null,
   "id": "4cc32bab-f00d-44a7-a838-dd0ba108deba",
   "metadata": {},
   "outputs": [],
   "source": []
  },
  {
   "cell_type": "code",
   "execution_count": null,
   "id": "ae4bc303-be00-4df2-be97-5cc58839818a",
   "metadata": {},
   "outputs": [],
   "source": []
  }
 ],
 "metadata": {
  "kernelspec": {
   "display_name": "Tensorflow (AI kit)",
   "language": "python",
   "name": "c009-intel_distribution_of_python_3_oneapi-beta05-tf"
  },
  "language_info": {
   "codemirror_mode": {
    "name": "ipython",
    "version": 3
   },
   "file_extension": ".py",
   "mimetype": "text/x-python",
   "name": "python",
   "nbconvert_exporter": "python",
   "pygments_lexer": "ipython3",
   "version": "3.9.16"
  }
 },
 "nbformat": 4,
 "nbformat_minor": 5
}
